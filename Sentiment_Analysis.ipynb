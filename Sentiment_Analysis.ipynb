{
 "cells": [
  {
   "cell_type": "code",
   "execution_count": 89,
   "metadata": {},
   "outputs": [],
   "source": [
    "from transformers import AutoModelForSequenceClassification\n",
    "from transformers import TFAutoModelForSequenceClassification\n",
    "from transformers import AutoTokenizer, AutoConfig\n",
    "from scipy.special import softmax\n",
    "import numpy as np\n",
    "import pandas as pd\n",
    "from tqdm import tqdm"
   ]
  },
  {
   "cell_type": "code",
   "execution_count": 64,
   "metadata": {},
   "outputs": [],
   "source": [
    "MODEL = f\"cardiffnlp/twitter-roberta-base-sentiment\"\n",
    "tokenizer = AutoTokenizer.from_pretrained(MODEL)\n",
    "model = AutoModelForSequenceClassification.from_pretrained(MODEL)\n",
    "config = AutoConfig.from_pretrained(MODEL)"
   ]
  },
  {
   "cell_type": "code",
   "execution_count": 65,
   "metadata": {},
   "outputs": [],
   "source": [
    "def preprocess(text):\n",
    "    new_text = []\n",
    "    for t in text.split(\" \"):\n",
    "        t = '@user' if t.startswith('@') and len(t) > 1 else t\n",
    "        t = 'http' if t.startswith('http') else t\n",
    "        new_text.append(t)\n",
    "    return \" \".join(new_text)"
   ]
  },
  {
   "cell_type": "code",
   "execution_count": 87,
   "metadata": {},
   "outputs": [],
   "source": [
    "def polarity_scores_roberta(text):\n",
    "    labels = [-1, 0, 1]\n",
    "    text = preprocess(text)\n",
    "    encoded_input = tokenizer(text, return_tensors='pt')\n",
    "    output = model(**encoded_input)\n",
    "    scores = output[0][0].detach().numpy()\n",
    "    scores = softmax(scores)\n",
    "    scores_dict = {\n",
    "        'roberta_neg' : scores[0],\n",
    "        'roberta_neu' : scores[1],\n",
    "        'roberta_pos' : scores[2]\n",
    "    }\n",
    "    i, = np.where(scores == scores.max())\n",
    "    return scores_dict, labels[i[0]]"
   ]
  },
  {
   "cell_type": "markdown",
   "metadata": {},
   "source": [
    "## Bitcoin"
   ]
  },
  {
   "cell_type": "code",
   "execution_count": 190,
   "metadata": {},
   "outputs": [],
   "source": [
    "btc_df = pd.read_csv(f'BTC_Tweets.csv', index_col=0)"
   ]
  },
  {
   "cell_type": "code",
   "execution_count": 191,
   "metadata": {},
   "outputs": [
    {
     "data": {
      "text/html": [
       "<div>\n",
       "<style scoped>\n",
       "    .dataframe tbody tr th:only-of-type {\n",
       "        vertical-align: middle;\n",
       "    }\n",
       "\n",
       "    .dataframe tbody tr th {\n",
       "        vertical-align: top;\n",
       "    }\n",
       "\n",
       "    .dataframe thead th {\n",
       "        text-align: right;\n",
       "    }\n",
       "</style>\n",
       "<table border=\"1\" class=\"dataframe\">\n",
       "  <thead>\n",
       "    <tr style=\"text-align: right;\">\n",
       "      <th></th>\n",
       "      <th>Date</th>\n",
       "      <th>Retweet</th>\n",
       "      <th>Reply</th>\n",
       "      <th>Likes</th>\n",
       "      <th>Tweet</th>\n",
       "    </tr>\n",
       "  </thead>\n",
       "  <tbody>\n",
       "    <tr>\n",
       "      <th>0</th>\n",
       "      <td>2021-08-01 12:14:58+00:00</td>\n",
       "      <td>2125</td>\n",
       "      <td>1146</td>\n",
       "      <td>14393</td>\n",
       "      <td>A node is an altar to truth. A wallet is a wea...</td>\n",
       "    </tr>\n",
       "    <tr>\n",
       "      <th>1</th>\n",
       "      <td>2021-08-01 06:52:59+00:00</td>\n",
       "      <td>2125</td>\n",
       "      <td>484</td>\n",
       "      <td>13517</td>\n",
       "      <td>#bitcoin July closing price $41,490 ... it bou...</td>\n",
       "    </tr>\n",
       "    <tr>\n",
       "      <th>2</th>\n",
       "      <td>2021-08-01 05:33:57+00:00</td>\n",
       "      <td>3259</td>\n",
       "      <td>952</td>\n",
       "      <td>12759</td>\n",
       "      <td>Bitcoin mining is really bad for the environme...</td>\n",
       "    </tr>\n",
       "    <tr>\n",
       "      <th>3</th>\n",
       "      <td>2021-08-01 05:05:19+00:00</td>\n",
       "      <td>1786</td>\n",
       "      <td>27</td>\n",
       "      <td>11749</td>\n",
       "      <td>You can't stop #bitcoin by talking badly about...</td>\n",
       "    </tr>\n",
       "    <tr>\n",
       "      <th>4</th>\n",
       "      <td>2021-08-01 20:30:14+00:00</td>\n",
       "      <td>6714</td>\n",
       "      <td>4689</td>\n",
       "      <td>10799</td>\n",
       "      <td>📣 Wierd Finance Airdrop is live!\\n\\n🏆 Reward f...</td>\n",
       "    </tr>\n",
       "  </tbody>\n",
       "</table>\n",
       "</div>"
      ],
      "text/plain": [
       "                        Date  Retweet  Reply  Likes  \\\n",
       "0  2021-08-01 12:14:58+00:00     2125   1146  14393   \n",
       "1  2021-08-01 06:52:59+00:00     2125    484  13517   \n",
       "2  2021-08-01 05:33:57+00:00     3259    952  12759   \n",
       "3  2021-08-01 05:05:19+00:00     1786     27  11749   \n",
       "4  2021-08-01 20:30:14+00:00     6714   4689  10799   \n",
       "\n",
       "                                               Tweet  \n",
       "0  A node is an altar to truth. A wallet is a wea...  \n",
       "1  #bitcoin July closing price $41,490 ... it bou...  \n",
       "2  Bitcoin mining is really bad for the environme...  \n",
       "3  You can't stop #bitcoin by talking badly about...  \n",
       "4  📣 Wierd Finance Airdrop is live!\\n\\n🏆 Reward f...  "
      ]
     },
     "execution_count": 191,
     "metadata": {},
     "output_type": "execute_result"
    }
   ],
   "source": [
    "btc_df.head()"
   ]
  },
  {
   "cell_type": "code",
   "execution_count": 193,
   "metadata": {},
   "outputs": [
    {
     "name": "stderr",
     "output_type": "stream",
     "text": [
      "  8%|▊         | 1431/17835 [02:33<32:06,  8.52it/s]  "
     ]
    }
   ],
   "source": [
    "roberta_result = {}\n",
    "classes = []\n",
    "for i, row in tqdm(btc_df.iterrows(), total=len(btc_df)):\n",
    "    text = row['Tweet']\n",
    "    result = polarity_scores_roberta(text)\n",
    "    roberta_result[i] = {**result[0]}\n",
    "    classes.append(result[1])"
   ]
  },
  {
   "cell_type": "code",
   "execution_count": null,
   "metadata": {},
   "outputs": [],
   "source": [
    "btc_df.join(pd.DataFrame(roberta_result).T)\n",
    "btc_df['classes'] = classes\n",
    "\n",
    "btc_df.head()"
   ]
  },
  {
   "cell_type": "markdown",
   "metadata": {},
   "source": [
    "## Ethereum"
   ]
  },
  {
   "cell_type": "code",
   "execution_count": 183,
   "metadata": {},
   "outputs": [],
   "source": [
    "eth_df = pd.read_csv(f'ETH_Tweets.csv', index_col=0)"
   ]
  },
  {
   "cell_type": "code",
   "execution_count": 184,
   "metadata": {},
   "outputs": [
    {
     "data": {
      "text/html": [
       "<div>\n",
       "<style scoped>\n",
       "    .dataframe tbody tr th:only-of-type {\n",
       "        vertical-align: middle;\n",
       "    }\n",
       "\n",
       "    .dataframe tbody tr th {\n",
       "        vertical-align: top;\n",
       "    }\n",
       "\n",
       "    .dataframe thead th {\n",
       "        text-align: right;\n",
       "    }\n",
       "</style>\n",
       "<table border=\"1\" class=\"dataframe\">\n",
       "  <thead>\n",
       "    <tr style=\"text-align: right;\">\n",
       "      <th></th>\n",
       "      <th>Date</th>\n",
       "      <th>Retweet</th>\n",
       "      <th>Reply</th>\n",
       "      <th>Likes</th>\n",
       "      <th>Tweet</th>\n",
       "    </tr>\n",
       "  </thead>\n",
       "  <tbody>\n",
       "    <tr>\n",
       "      <th>0</th>\n",
       "      <td>2021-08-01 20:30:14+00:00</td>\n",
       "      <td>6714</td>\n",
       "      <td>4689</td>\n",
       "      <td>10799</td>\n",
       "      <td>📣 Wierd Finance Airdrop is live!\\n\\n🏆 Reward f...</td>\n",
       "    </tr>\n",
       "    <tr>\n",
       "      <th>1</th>\n",
       "      <td>2021-08-01 13:00:36+00:00</td>\n",
       "      <td>2360</td>\n",
       "      <td>77</td>\n",
       "      <td>10282</td>\n",
       "      <td>Crypto bro learns a valuable lesson about nfts...</td>\n",
       "    </tr>\n",
       "    <tr>\n",
       "      <th>2</th>\n",
       "      <td>2021-08-01 01:18:44+00:00</td>\n",
       "      <td>13506</td>\n",
       "      <td>9008</td>\n",
       "      <td>7084</td>\n",
       "      <td>$500 CRYPTO || 6,8 JUTA IDR\\n|| one winner || ...</td>\n",
       "    </tr>\n",
       "    <tr>\n",
       "      <th>3</th>\n",
       "      <td>2021-08-01 06:31:45+00:00</td>\n",
       "      <td>13546</td>\n",
       "      <td>5853</td>\n",
       "      <td>6982</td>\n",
       "      <td>$500 CRYPTO || 6,8 JUTA IDR\\n|| one winner || ...</td>\n",
       "    </tr>\n",
       "    <tr>\n",
       "      <th>4</th>\n",
       "      <td>2021-08-01 13:33:00+00:00</td>\n",
       "      <td>323</td>\n",
       "      <td>280</td>\n",
       "      <td>6536</td>\n",
       "      <td>Only future #crypto millionaires or billionair...</td>\n",
       "    </tr>\n",
       "  </tbody>\n",
       "</table>\n",
       "</div>"
      ],
      "text/plain": [
       "                        Date  Retweet  Reply  Likes  \\\n",
       "0  2021-08-01 20:30:14+00:00     6714   4689  10799   \n",
       "1  2021-08-01 13:00:36+00:00     2360     77  10282   \n",
       "2  2021-08-01 01:18:44+00:00    13506   9008   7084   \n",
       "3  2021-08-01 06:31:45+00:00    13546   5853   6982   \n",
       "4  2021-08-01 13:33:00+00:00      323    280   6536   \n",
       "\n",
       "                                               Tweet  \n",
       "0  📣 Wierd Finance Airdrop is live!\\n\\n🏆 Reward f...  \n",
       "1  Crypto bro learns a valuable lesson about nfts...  \n",
       "2  $500 CRYPTO || 6,8 JUTA IDR\\n|| one winner || ...  \n",
       "3  $500 CRYPTO || 6,8 JUTA IDR\\n|| one winner || ...  \n",
       "4  Only future #crypto millionaires or billionair...  "
      ]
     },
     "execution_count": 184,
     "metadata": {},
     "output_type": "execute_result"
    }
   ],
   "source": [
    "eth_df.head()"
   ]
  },
  {
   "cell_type": "code",
   "execution_count": 185,
   "metadata": {},
   "outputs": [
    {
     "name": "stderr",
     "output_type": "stream",
     "text": [
      "100%|██████████| 16170/16170 [31:41<00:00,  8.50it/s]\n"
     ]
    }
   ],
   "source": [
    "roberta_result = {}\n",
    "classes = []\n",
    "for i, row in tqdm(eth_df.iterrows(), total=len(eth_df)):\n",
    "    text = row['Tweet']\n",
    "    result = polarity_scores_roberta(text)\n",
    "    roberta_result[i] = {**result[0]}\n",
    "    classes.append(result[1])"
   ]
  },
  {
   "cell_type": "code",
   "execution_count": 188,
   "metadata": {},
   "outputs": [
    {
     "data": {
      "text/html": [
       "<div>\n",
       "<style scoped>\n",
       "    .dataframe tbody tr th:only-of-type {\n",
       "        vertical-align: middle;\n",
       "    }\n",
       "\n",
       "    .dataframe tbody tr th {\n",
       "        vertical-align: top;\n",
       "    }\n",
       "\n",
       "    .dataframe thead th {\n",
       "        text-align: right;\n",
       "    }\n",
       "</style>\n",
       "<table border=\"1\" class=\"dataframe\">\n",
       "  <thead>\n",
       "    <tr style=\"text-align: right;\">\n",
       "      <th></th>\n",
       "      <th>Date</th>\n",
       "      <th>Retweet</th>\n",
       "      <th>Reply</th>\n",
       "      <th>Likes</th>\n",
       "      <th>Tweet</th>\n",
       "      <th>classes</th>\n",
       "      <th>roberta_neg</th>\n",
       "      <th>roberta_neu</th>\n",
       "      <th>roberta_pos</th>\n",
       "    </tr>\n",
       "  </thead>\n",
       "  <tbody>\n",
       "    <tr>\n",
       "      <th>0</th>\n",
       "      <td>2021-08-01 20:30:14+00:00</td>\n",
       "      <td>6714</td>\n",
       "      <td>4689</td>\n",
       "      <td>10799</td>\n",
       "      <td>📣 Wierd Finance Airdrop is live!\\n\\n🏆 Reward f...</td>\n",
       "      <td>0</td>\n",
       "      <td>0.007581</td>\n",
       "      <td>0.673813</td>\n",
       "      <td>0.318606</td>\n",
       "    </tr>\n",
       "    <tr>\n",
       "      <th>1</th>\n",
       "      <td>2021-08-01 13:00:36+00:00</td>\n",
       "      <td>2360</td>\n",
       "      <td>77</td>\n",
       "      <td>10282</td>\n",
       "      <td>Crypto bro learns a valuable lesson about nfts...</td>\n",
       "      <td>0</td>\n",
       "      <td>0.017721</td>\n",
       "      <td>0.492217</td>\n",
       "      <td>0.490062</td>\n",
       "    </tr>\n",
       "    <tr>\n",
       "      <th>2</th>\n",
       "      <td>2021-08-01 01:18:44+00:00</td>\n",
       "      <td>13506</td>\n",
       "      <td>9008</td>\n",
       "      <td>7084</td>\n",
       "      <td>$500 CRYPTO || 6,8 JUTA IDR\\n|| one winner || ...</td>\n",
       "      <td>0</td>\n",
       "      <td>0.042528</td>\n",
       "      <td>0.799713</td>\n",
       "      <td>0.157758</td>\n",
       "    </tr>\n",
       "    <tr>\n",
       "      <th>3</th>\n",
       "      <td>2021-08-01 06:31:45+00:00</td>\n",
       "      <td>13546</td>\n",
       "      <td>5853</td>\n",
       "      <td>6982</td>\n",
       "      <td>$500 CRYPTO || 6,8 JUTA IDR\\n|| one winner || ...</td>\n",
       "      <td>0</td>\n",
       "      <td>0.040356</td>\n",
       "      <td>0.834890</td>\n",
       "      <td>0.124755</td>\n",
       "    </tr>\n",
       "    <tr>\n",
       "      <th>4</th>\n",
       "      <td>2021-08-01 13:33:00+00:00</td>\n",
       "      <td>323</td>\n",
       "      <td>280</td>\n",
       "      <td>6536</td>\n",
       "      <td>Only future #crypto millionaires or billionair...</td>\n",
       "      <td>1</td>\n",
       "      <td>0.002724</td>\n",
       "      <td>0.090555</td>\n",
       "      <td>0.906721</td>\n",
       "    </tr>\n",
       "  </tbody>\n",
       "</table>\n",
       "</div>"
      ],
      "text/plain": [
       "                        Date  Retweet  Reply  Likes  \\\n",
       "0  2021-08-01 20:30:14+00:00     6714   4689  10799   \n",
       "1  2021-08-01 13:00:36+00:00     2360     77  10282   \n",
       "2  2021-08-01 01:18:44+00:00    13506   9008   7084   \n",
       "3  2021-08-01 06:31:45+00:00    13546   5853   6982   \n",
       "4  2021-08-01 13:33:00+00:00      323    280   6536   \n",
       "\n",
       "                                               Tweet  classes  roberta_neg  \\\n",
       "0  📣 Wierd Finance Airdrop is live!\\n\\n🏆 Reward f...        0     0.007581   \n",
       "1  Crypto bro learns a valuable lesson about nfts...        0     0.017721   \n",
       "2  $500 CRYPTO || 6,8 JUTA IDR\\n|| one winner || ...        0     0.042528   \n",
       "3  $500 CRYPTO || 6,8 JUTA IDR\\n|| one winner || ...        0     0.040356   \n",
       "4  Only future #crypto millionaires or billionair...        1     0.002724   \n",
       "\n",
       "   roberta_neu  roberta_pos  \n",
       "0     0.673813     0.318606  \n",
       "1     0.492217     0.490062  \n",
       "2     0.799713     0.157758  \n",
       "3     0.834890     0.124755  \n",
       "4     0.090555     0.906721  "
      ]
     },
     "execution_count": 188,
     "metadata": {},
     "output_type": "execute_result"
    }
   ],
   "source": [
    "eth_df = eth_df.join(pd.DataFrame(roberta_result).T)\n",
    "eth_df['classes'] = classes"
   ]
  },
  {
   "cell_type": "code",
   "execution_count": 189,
   "metadata": {},
   "outputs": [
    {
     "data": {
      "text/html": [
       "<div>\n",
       "<style scoped>\n",
       "    .dataframe tbody tr th:only-of-type {\n",
       "        vertical-align: middle;\n",
       "    }\n",
       "\n",
       "    .dataframe tbody tr th {\n",
       "        vertical-align: top;\n",
       "    }\n",
       "\n",
       "    .dataframe thead th {\n",
       "        text-align: right;\n",
       "    }\n",
       "</style>\n",
       "<table border=\"1\" class=\"dataframe\">\n",
       "  <thead>\n",
       "    <tr style=\"text-align: right;\">\n",
       "      <th></th>\n",
       "      <th>Date</th>\n",
       "      <th>Retweet</th>\n",
       "      <th>Reply</th>\n",
       "      <th>Likes</th>\n",
       "      <th>Tweet</th>\n",
       "      <th>classes</th>\n",
       "      <th>roberta_neg</th>\n",
       "      <th>roberta_neu</th>\n",
       "      <th>roberta_pos</th>\n",
       "    </tr>\n",
       "  </thead>\n",
       "  <tbody>\n",
       "    <tr>\n",
       "      <th>0</th>\n",
       "      <td>2021-08-01 20:30:14+00:00</td>\n",
       "      <td>6714</td>\n",
       "      <td>4689</td>\n",
       "      <td>10799</td>\n",
       "      <td>📣 Wierd Finance Airdrop is live!\\n\\n🏆 Reward f...</td>\n",
       "      <td>0</td>\n",
       "      <td>0.007581</td>\n",
       "      <td>0.673813</td>\n",
       "      <td>0.318606</td>\n",
       "    </tr>\n",
       "    <tr>\n",
       "      <th>1</th>\n",
       "      <td>2021-08-01 13:00:36+00:00</td>\n",
       "      <td>2360</td>\n",
       "      <td>77</td>\n",
       "      <td>10282</td>\n",
       "      <td>Crypto bro learns a valuable lesson about nfts...</td>\n",
       "      <td>0</td>\n",
       "      <td>0.017721</td>\n",
       "      <td>0.492217</td>\n",
       "      <td>0.490062</td>\n",
       "    </tr>\n",
       "    <tr>\n",
       "      <th>2</th>\n",
       "      <td>2021-08-01 01:18:44+00:00</td>\n",
       "      <td>13506</td>\n",
       "      <td>9008</td>\n",
       "      <td>7084</td>\n",
       "      <td>$500 CRYPTO || 6,8 JUTA IDR\\n|| one winner || ...</td>\n",
       "      <td>0</td>\n",
       "      <td>0.042528</td>\n",
       "      <td>0.799713</td>\n",
       "      <td>0.157758</td>\n",
       "    </tr>\n",
       "    <tr>\n",
       "      <th>3</th>\n",
       "      <td>2021-08-01 06:31:45+00:00</td>\n",
       "      <td>13546</td>\n",
       "      <td>5853</td>\n",
       "      <td>6982</td>\n",
       "      <td>$500 CRYPTO || 6,8 JUTA IDR\\n|| one winner || ...</td>\n",
       "      <td>0</td>\n",
       "      <td>0.040356</td>\n",
       "      <td>0.834890</td>\n",
       "      <td>0.124755</td>\n",
       "    </tr>\n",
       "    <tr>\n",
       "      <th>4</th>\n",
       "      <td>2021-08-01 13:33:00+00:00</td>\n",
       "      <td>323</td>\n",
       "      <td>280</td>\n",
       "      <td>6536</td>\n",
       "      <td>Only future #crypto millionaires or billionair...</td>\n",
       "      <td>1</td>\n",
       "      <td>0.002724</td>\n",
       "      <td>0.090555</td>\n",
       "      <td>0.906721</td>\n",
       "    </tr>\n",
       "  </tbody>\n",
       "</table>\n",
       "</div>"
      ],
      "text/plain": [
       "                        Date  Retweet  Reply  Likes  \\\n",
       "0  2021-08-01 20:30:14+00:00     6714   4689  10799   \n",
       "1  2021-08-01 13:00:36+00:00     2360     77  10282   \n",
       "2  2021-08-01 01:18:44+00:00    13506   9008   7084   \n",
       "3  2021-08-01 06:31:45+00:00    13546   5853   6982   \n",
       "4  2021-08-01 13:33:00+00:00      323    280   6536   \n",
       "\n",
       "                                               Tweet  classes  roberta_neg  \\\n",
       "0  📣 Wierd Finance Airdrop is live!\\n\\n🏆 Reward f...        0     0.007581   \n",
       "1  Crypto bro learns a valuable lesson about nfts...        0     0.017721   \n",
       "2  $500 CRYPTO || 6,8 JUTA IDR\\n|| one winner || ...        0     0.042528   \n",
       "3  $500 CRYPTO || 6,8 JUTA IDR\\n|| one winner || ...        0     0.040356   \n",
       "4  Only future #crypto millionaires or billionair...        1     0.002724   \n",
       "\n",
       "   roberta_neu  roberta_pos  \n",
       "0     0.673813     0.318606  \n",
       "1     0.492217     0.490062  \n",
       "2     0.799713     0.157758  \n",
       "3     0.834890     0.124755  \n",
       "4     0.090555     0.906721  "
      ]
     },
     "execution_count": 189,
     "metadata": {},
     "output_type": "execute_result"
    }
   ],
   "source": [
    "eth_df = df.copy()\n",
    "eth_df.head()"
   ]
  },
  {
   "cell_type": "code",
   "execution_count": 124,
   "metadata": {},
   "outputs": [],
   "source": [
    "dff = pd.read_csv(r'ETH_tweet_perday.csv', index_col=0)"
   ]
  },
  {
   "cell_type": "code",
   "execution_count": 141,
   "metadata": {},
   "outputs": [],
   "source": [
    "import seaborn as sns\n",
    "import matplotlib.pyplot as plt"
   ]
  },
  {
   "cell_type": "code",
   "execution_count": 186,
   "metadata": {},
   "outputs": [
    {
     "data": {
      "image/png": "[encoded data removed]",
      "text/plain": [
       "<Figure size 2000x500 with 1 Axes>"
      ]
     },
     "metadata": {},
     "output_type": "display_data"
    }
   ],
   "source": [
    "date = []\n",
    "for i in range(38):\n",
    "    date.append(pd.to_datetime('2021-08-01') + pd.Timedelta(days=i))\n",
    "\n",
    "dff['date'] = date\n",
    "fig = plt.figure(figsize=(20, 5))\n",
    "sns.lineplot(x='date', y='0', data=dff)\n",
    "plt.show()"
   ]
  }
 ],
 "metadata": {
  "kernelspec": {
   "display_name": "Python 3.10.5 64-bit",
   "language": "python",
   "name": "python3"
  },
  "language_info": {
   "codemirror_mode": {
    "name": "ipython",
    "version": 3
   },
   "file_extension": ".py",
   "mimetype": "text/x-python",
   "name": "python",
   "nbconvert_exporter": "python",
   "pygments_lexer": "ipython3",
   "version": "3.10.5"
  },
  "orig_nbformat": 4,
  "vscode": {
   "interpreter": {
    "hash": "6f33e2aab1947ef18b04b3819b323c052dfcdf5c9ef637e8187270b943f31089"
   }
  }
 },
 "nbformat": 4,
 "nbformat_minor": 2
}

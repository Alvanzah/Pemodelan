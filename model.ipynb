{
 "cells": [
  {
   "cell_type": "code",
   "execution_count": 353,
   "metadata": {},
   "outputs": [],
   "source": [
    "import pandas as pd\n",
    "import numpy as np\n",
    "import matplotlib.pyplot as plt\n",
    "import seaborn as sns\n",
    "\n",
    "import xgboost as xgb\n",
    "from sklearn.metrics import classification_report, confusion_matrix, accuracy_score\n",
    "from sklearn.model_selection import cross_val_score, KFold\n",
    "import itertools\n",
    "\n",
    "import warnings\n",
    "warnings.filterwarnings(\"ignore\")"
   ]
  },
  {
   "cell_type": "code",
   "execution_count": 354,
   "metadata": {},
   "outputs": [],
   "source": [
    "btc_df = pd.read_csv(r'sentiment_btc.csv', index_col=0)\n",
    "eth_df = pd.read_csv(r'sentiment_eth.csv', index_col=0)\n",
    "price_df = pd.read_csv(r'Prices.csv', index_col=0)"
   ]
  },
  {
   "cell_type": "code",
   "execution_count": 355,
   "metadata": {},
   "outputs": [
    {
     "data": {
      "text/html": [
       "<div>\n",
       "<style scoped>\n",
       "    .dataframe tbody tr th:only-of-type {\n",
       "        vertical-align: middle;\n",
       "    }\n",
       "\n",
       "    .dataframe tbody tr th {\n",
       "        vertical-align: top;\n",
       "    }\n",
       "\n",
       "    .dataframe thead th {\n",
       "        text-align: right;\n",
       "    }\n",
       "</style>\n",
       "<table border=\"1\" class=\"dataframe\">\n",
       "  <thead>\n",
       "    <tr style=\"text-align: right;\">\n",
       "      <th></th>\n",
       "      <th>Retweet</th>\n",
       "      <th>Reply</th>\n",
       "      <th>Likes</th>\n",
       "      <th>Tweet</th>\n",
       "      <th>roberta_neg</th>\n",
       "      <th>roberta_neu</th>\n",
       "      <th>roberta_pos</th>\n",
       "      <th>classes</th>\n",
       "    </tr>\n",
       "    <tr>\n",
       "      <th>Date</th>\n",
       "      <th></th>\n",
       "      <th></th>\n",
       "      <th></th>\n",
       "      <th></th>\n",
       "      <th></th>\n",
       "      <th></th>\n",
       "      <th></th>\n",
       "      <th></th>\n",
       "    </tr>\n",
       "  </thead>\n",
       "  <tbody>\n",
       "    <tr>\n",
       "      <th>2020-07-01 08:25:58+00:00</th>\n",
       "      <td>694</td>\n",
       "      <td>165</td>\n",
       "      <td>3022</td>\n",
       "      <td>#Bitcoin S2F chart update .. RED DOT #2 🔴 http...</td>\n",
       "      <td>0.020831</td>\n",
       "      <td>0.904005</td>\n",
       "      <td>0.075164</td>\n",
       "      <td>0</td>\n",
       "    </tr>\n",
       "    <tr>\n",
       "      <th>2020-07-01 01:32:23+00:00</th>\n",
       "      <td>301</td>\n",
       "      <td>122</td>\n",
       "      <td>2875</td>\n",
       "      <td>Bitcoin will soon do to banks what email did t...</td>\n",
       "      <td>0.033729</td>\n",
       "      <td>0.592106</td>\n",
       "      <td>0.374165</td>\n",
       "      <td>0</td>\n",
       "    </tr>\n",
       "    <tr>\n",
       "      <th>2020-07-01 23:00:05+00:00</th>\n",
       "      <td>318</td>\n",
       "      <td>43</td>\n",
       "      <td>2098</td>\n",
       "      <td>💻 Two new teasers have dropped in #ApexLegends...</td>\n",
       "      <td>0.091743</td>\n",
       "      <td>0.844816</td>\n",
       "      <td>0.063441</td>\n",
       "      <td>0</td>\n",
       "    </tr>\n",
       "    <tr>\n",
       "      <th>2020-07-01 17:01:32+00:00</th>\n",
       "      <td>172</td>\n",
       "      <td>148</td>\n",
       "      <td>1714</td>\n",
       "      <td>10 bitcoin to be a billionaire.</td>\n",
       "      <td>0.029795</td>\n",
       "      <td>0.782686</td>\n",
       "      <td>0.187519</td>\n",
       "      <td>0</td>\n",
       "    </tr>\n",
       "    <tr>\n",
       "      <th>2020-07-01 12:33:03+00:00</th>\n",
       "      <td>2195</td>\n",
       "      <td>917</td>\n",
       "      <td>1681</td>\n",
       "      <td>I will give someone $150 in 24hours all you ha...</td>\n",
       "      <td>0.001092</td>\n",
       "      <td>0.040329</td>\n",
       "      <td>0.958579</td>\n",
       "      <td>1</td>\n",
       "    </tr>\n",
       "    <tr>\n",
       "      <th>...</th>\n",
       "      <td>...</td>\n",
       "      <td>...</td>\n",
       "      <td>...</td>\n",
       "      <td>...</td>\n",
       "      <td>...</td>\n",
       "      <td>...</td>\n",
       "      <td>...</td>\n",
       "      <td>...</td>\n",
       "    </tr>\n",
       "    <tr>\n",
       "      <th>2020-08-07 16:07:32+00:00</th>\n",
       "      <td>28</td>\n",
       "      <td>10</td>\n",
       "      <td>113</td>\n",
       "      <td>At 11:26am EST, we noticed our systems not fun...</td>\n",
       "      <td>0.782039</td>\n",
       "      <td>0.203932</td>\n",
       "      <td>0.014028</td>\n",
       "      <td>-1</td>\n",
       "    </tr>\n",
       "    <tr>\n",
       "      <th>2020-08-07 12:14:42+00:00</th>\n",
       "      <td>5</td>\n",
       "      <td>18</td>\n",
       "      <td>113</td>\n",
       "      <td>2017: I AM THE EYE IN THE SKY MY FRIEND\\n\\n201...</td>\n",
       "      <td>0.171523</td>\n",
       "      <td>0.544430</td>\n",
       "      <td>0.284047</td>\n",
       "      <td>0</td>\n",
       "    </tr>\n",
       "    <tr>\n",
       "      <th>2020-08-07 00:54:07+00:00</th>\n",
       "      <td>14</td>\n",
       "      <td>2</td>\n",
       "      <td>109</td>\n",
       "      <td>An ETH maxi literally told us to query this da...</td>\n",
       "      <td>0.761172</td>\n",
       "      <td>0.213993</td>\n",
       "      <td>0.024835</td>\n",
       "      <td>-1</td>\n",
       "    </tr>\n",
       "    <tr>\n",
       "      <th>2020-08-07 19:10:00+00:00</th>\n",
       "      <td>54</td>\n",
       "      <td>13</td>\n",
       "      <td>107</td>\n",
       "      <td>The major reason why Africa continues to lag b...</td>\n",
       "      <td>0.830868</td>\n",
       "      <td>0.155565</td>\n",
       "      <td>0.013567</td>\n",
       "      <td>-1</td>\n",
       "    </tr>\n",
       "    <tr>\n",
       "      <th>2020-08-07 12:43:48+00:00</th>\n",
       "      <td>1</td>\n",
       "      <td>4</td>\n",
       "      <td>102</td>\n",
       "      <td>@antiprosynth @lastmjs Bitcoin has better tech...</td>\n",
       "      <td>0.023682</td>\n",
       "      <td>0.336118</td>\n",
       "      <td>0.640200</td>\n",
       "      <td>1</td>\n",
       "    </tr>\n",
       "  </tbody>\n",
       "</table>\n",
       "<p>6081 rows × 8 columns</p>\n",
       "</div>"
      ],
      "text/plain": [
       "                           Retweet  Reply  Likes  \\\n",
       "Date                                               \n",
       "2020-07-01 08:25:58+00:00      694    165   3022   \n",
       "2020-07-01 01:32:23+00:00      301    122   2875   \n",
       "2020-07-01 23:00:05+00:00      318     43   2098   \n",
       "2020-07-01 17:01:32+00:00      172    148   1714   \n",
       "2020-07-01 12:33:03+00:00     2195    917   1681   \n",
       "...                            ...    ...    ...   \n",
       "2020-08-07 16:07:32+00:00       28     10    113   \n",
       "2020-08-07 12:14:42+00:00        5     18    113   \n",
       "2020-08-07 00:54:07+00:00       14      2    109   \n",
       "2020-08-07 19:10:00+00:00       54     13    107   \n",
       "2020-08-07 12:43:48+00:00        1      4    102   \n",
       "\n",
       "                                                                       Tweet  \\\n",
       "Date                                                                           \n",
       "2020-07-01 08:25:58+00:00  #Bitcoin S2F chart update .. RED DOT #2 🔴 http...   \n",
       "2020-07-01 01:32:23+00:00  Bitcoin will soon do to banks what email did t...   \n",
       "2020-07-01 23:00:05+00:00  💻 Two new teasers have dropped in #ApexLegends...   \n",
       "2020-07-01 17:01:32+00:00                    10 bitcoin to be a billionaire.   \n",
       "2020-07-01 12:33:03+00:00  I will give someone $150 in 24hours all you ha...   \n",
       "...                                                                      ...   \n",
       "2020-08-07 16:07:32+00:00  At 11:26am EST, we noticed our systems not fun...   \n",
       "2020-08-07 12:14:42+00:00  2017: I AM THE EYE IN THE SKY MY FRIEND\\n\\n201...   \n",
       "2020-08-07 00:54:07+00:00  An ETH maxi literally told us to query this da...   \n",
       "2020-08-07 19:10:00+00:00  The major reason why Africa continues to lag b...   \n",
       "2020-08-07 12:43:48+00:00  @antiprosynth @lastmjs Bitcoin has better tech...   \n",
       "\n",
       "                           roberta_neg  roberta_neu  roberta_pos  classes  \n",
       "Date                                                                       \n",
       "2020-07-01 08:25:58+00:00     0.020831     0.904005     0.075164        0  \n",
       "2020-07-01 01:32:23+00:00     0.033729     0.592106     0.374165        0  \n",
       "2020-07-01 23:00:05+00:00     0.091743     0.844816     0.063441        0  \n",
       "2020-07-01 17:01:32+00:00     0.029795     0.782686     0.187519        0  \n",
       "2020-07-01 12:33:03+00:00     0.001092     0.040329     0.958579        1  \n",
       "...                                ...          ...          ...      ...  \n",
       "2020-08-07 16:07:32+00:00     0.782039     0.203932     0.014028       -1  \n",
       "2020-08-07 12:14:42+00:00     0.171523     0.544430     0.284047        0  \n",
       "2020-08-07 00:54:07+00:00     0.761172     0.213993     0.024835       -1  \n",
       "2020-08-07 19:10:00+00:00     0.830868     0.155565     0.013567       -1  \n",
       "2020-08-07 12:43:48+00:00     0.023682     0.336118     0.640200        1  \n",
       "\n",
       "[6081 rows x 8 columns]"
      ]
     },
     "execution_count": 355,
     "metadata": {},
     "output_type": "execute_result"
    }
   ],
   "source": [
    "btc_df['Date'] = pd.to_datetime(btc_df['Date'], utc=False)\n",
    "btc_df = btc_df.set_index('Date')\n",
    "btc_df"
   ]
  },
  {
   "cell_type": "code",
   "execution_count": 356,
   "metadata": {},
   "outputs": [
    {
     "data": {
      "text/html": [
       "<div>\n",
       "<style scoped>\n",
       "    .dataframe tbody tr th:only-of-type {\n",
       "        vertical-align: middle;\n",
       "    }\n",
       "\n",
       "    .dataframe tbody tr th {\n",
       "        vertical-align: top;\n",
       "    }\n",
       "\n",
       "    .dataframe thead th {\n",
       "        text-align: right;\n",
       "    }\n",
       "</style>\n",
       "<table border=\"1\" class=\"dataframe\">\n",
       "  <thead>\n",
       "    <tr style=\"text-align: right;\">\n",
       "      <th></th>\n",
       "      <th>Retweet</th>\n",
       "      <th>Reply</th>\n",
       "      <th>Likes</th>\n",
       "      <th>Tweet</th>\n",
       "      <th>roberta_neg</th>\n",
       "      <th>roberta_neu</th>\n",
       "      <th>roberta_pos</th>\n",
       "      <th>classes</th>\n",
       "    </tr>\n",
       "    <tr>\n",
       "      <th>Date</th>\n",
       "      <th></th>\n",
       "      <th></th>\n",
       "      <th></th>\n",
       "      <th></th>\n",
       "      <th></th>\n",
       "      <th></th>\n",
       "      <th></th>\n",
       "      <th></th>\n",
       "    </tr>\n",
       "  </thead>\n",
       "  <tbody>\n",
       "    <tr>\n",
       "      <th>2020-07-01 23:00:05+00:00</th>\n",
       "      <td>318</td>\n",
       "      <td>43</td>\n",
       "      <td>2098</td>\n",
       "      <td>💻 Two new teasers have dropped in #ApexLegends...</td>\n",
       "      <td>0.091743</td>\n",
       "      <td>0.844816</td>\n",
       "      <td>0.063441</td>\n",
       "      <td>0</td>\n",
       "    </tr>\n",
       "    <tr>\n",
       "      <th>2020-07-01 12:33:03+00:00</th>\n",
       "      <td>2195</td>\n",
       "      <td>917</td>\n",
       "      <td>1681</td>\n",
       "      <td>I will give someone $150 in 24hours all you ha...</td>\n",
       "      <td>0.001092</td>\n",
       "      <td>0.040329</td>\n",
       "      <td>0.958579</td>\n",
       "      <td>1</td>\n",
       "    </tr>\n",
       "    <tr>\n",
       "      <th>2020-07-01 11:33:16+00:00</th>\n",
       "      <td>207</td>\n",
       "      <td>6</td>\n",
       "      <td>1245</td>\n",
       "      <td>31 Days of Apex: Memory\\nCrypto's forever fami...</td>\n",
       "      <td>0.023992</td>\n",
       "      <td>0.801558</td>\n",
       "      <td>0.174450</td>\n",
       "      <td>0</td>\n",
       "    </tr>\n",
       "    <tr>\n",
       "      <th>2020-07-01 20:02:49+00:00</th>\n",
       "      <td>417</td>\n",
       "      <td>75</td>\n",
       "      <td>1223</td>\n",
       "      <td>#Blockchain technology and #XRP play a fundame...</td>\n",
       "      <td>0.008470</td>\n",
       "      <td>0.540194</td>\n",
       "      <td>0.451336</td>\n",
       "      <td>0</td>\n",
       "    </tr>\n",
       "    <tr>\n",
       "      <th>2020-07-01 15:03:23+00:00</th>\n",
       "      <td>1395</td>\n",
       "      <td>310</td>\n",
       "      <td>1150</td>\n",
       "      <td>Calling all blockchain game enthusiasts: we ar...</td>\n",
       "      <td>0.000847</td>\n",
       "      <td>0.032527</td>\n",
       "      <td>0.966626</td>\n",
       "      <td>1</td>\n",
       "    </tr>\n",
       "  </tbody>\n",
       "</table>\n",
       "</div>"
      ],
      "text/plain": [
       "                           Retweet  Reply  Likes  \\\n",
       "Date                                               \n",
       "2020-07-01 23:00:05+00:00      318     43   2098   \n",
       "2020-07-01 12:33:03+00:00     2195    917   1681   \n",
       "2020-07-01 11:33:16+00:00      207      6   1245   \n",
       "2020-07-01 20:02:49+00:00      417     75   1223   \n",
       "2020-07-01 15:03:23+00:00     1395    310   1150   \n",
       "\n",
       "                                                                       Tweet  \\\n",
       "Date                                                                           \n",
       "2020-07-01 23:00:05+00:00  💻 Two new teasers have dropped in #ApexLegends...   \n",
       "2020-07-01 12:33:03+00:00  I will give someone $150 in 24hours all you ha...   \n",
       "2020-07-01 11:33:16+00:00  31 Days of Apex: Memory\\nCrypto's forever fami...   \n",
       "2020-07-01 20:02:49+00:00  #Blockchain technology and #XRP play a fundame...   \n",
       "2020-07-01 15:03:23+00:00  Calling all blockchain game enthusiasts: we ar...   \n",
       "\n",
       "                           roberta_neg  roberta_neu  roberta_pos  classes  \n",
       "Date                                                                       \n",
       "2020-07-01 23:00:05+00:00     0.091743     0.844816     0.063441        0  \n",
       "2020-07-01 12:33:03+00:00     0.001092     0.040329     0.958579        1  \n",
       "2020-07-01 11:33:16+00:00     0.023992     0.801558     0.174450        0  \n",
       "2020-07-01 20:02:49+00:00     0.008470     0.540194     0.451336        0  \n",
       "2020-07-01 15:03:23+00:00     0.000847     0.032527     0.966626        1  "
      ]
     },
     "execution_count": 356,
     "metadata": {},
     "output_type": "execute_result"
    }
   ],
   "source": [
    "eth_df['Date'] = pd.to_datetime(eth_df['Date'])\n",
    "eth_df = eth_df.set_index('Date')\n",
    "eth_df.head()"
   ]
  },
  {
   "cell_type": "code",
   "execution_count": 357,
   "metadata": {},
   "outputs": [],
   "source": [
    "price_df = price_df['2020-07-01 00:00:00':'2020-08-08 00:00:00']\n",
    "price_df.index = pd.to_datetime(price_df.index, utc=True)\n",
    "price_df = price_df.sort_values(by='Date')"
   ]
  },
  {
   "cell_type": "markdown",
   "metadata": {},
   "source": [
    "## Pre-Processing"
   ]
  },
  {
   "cell_type": "code",
   "execution_count": 358,
   "metadata": {},
   "outputs": [],
   "source": [
    "price_df.index = price_df.index.date\n",
    "price_df.index.name = 'Date'"
   ]
  },
  {
   "cell_type": "code",
   "execution_count": 359,
   "metadata": {},
   "outputs": [],
   "source": [
    "btc_df = btc_df.drop(columns='Tweet', axis=0)\n",
    "btc_df = btc_df.sort_values('Date')"
   ]
  },
  {
   "cell_type": "code",
   "execution_count": 360,
   "metadata": {},
   "outputs": [],
   "source": [
    "btc_merge = btc_df"
   ]
  },
  {
   "cell_type": "code",
   "execution_count": 361,
   "metadata": {},
   "outputs": [],
   "source": [
    "btc_merge.index = btc_merge.index.date\n",
    "btc_merge.index.name = 'Date'"
   ]
  },
  {
   "cell_type": "code",
   "execution_count": 362,
   "metadata": {},
   "outputs": [],
   "source": [
    "btc_merge['Impact'] = 2*btc_merge['Retweet']*btc_merge['classes'] + btc_merge['Likes']*btc_merge['classes']\n",
    "btc_merge = pd.get_dummies(btc_merge, columns=['classes'])"
   ]
  },
  {
   "cell_type": "code",
   "execution_count": 363,
   "metadata": {},
   "outputs": [],
   "source": [
    "btc_merge1 = btc_merge.groupby('Date')[['Impact', 'classes_-1', 'classes_1']].sum()\n",
    "btc_merge1 = pd.merge(btc_merge1, price_df, on='Date')\n",
    "btc_merge1 = btc_merge1.iloc[:, 0:4]"
   ]
  },
  {
   "cell_type": "markdown",
   "metadata": {},
   "source": [
    "## Train-Test-Split"
   ]
  },
  {
   "cell_type": "code",
   "execution_count": 364,
   "metadata": {},
   "outputs": [],
   "source": [
    "train = btc_merge1[:pd.to_datetime('2020-07-31').date()]\n",
    "test = btc_merge1[pd.to_datetime('2020-08-01').date():]"
   ]
  },
  {
   "cell_type": "code",
   "execution_count": 365,
   "metadata": {},
   "outputs": [],
   "source": [
    "x_train = train.iloc[:, 0:3]\n",
    "y_train = train.iloc[:, 3]\n",
    "\n",
    "x_test = test.iloc[:, 0:3]\n",
    "y_test = test.iloc[:, 3]"
   ]
  },
  {
   "cell_type": "markdown",
   "metadata": {},
   "source": [
    "## Model"
   ]
  },
  {
   "cell_type": "code",
   "execution_count": 366,
   "metadata": {},
   "outputs": [
    {
     "data": {
      "text/html": [
       "<style>#sk-container-id-8 {color: black;background-color: white;}#sk-container-id-8 pre{padding: 0;}#sk-container-id-8 div.sk-toggleable {background-color: white;}#sk-container-id-8 label.sk-toggleable__label {cursor: pointer;display: block;width: 100%;margin-bottom: 0;padding: 0.3em;box-sizing: border-box;text-align: center;}#sk-container-id-8 label.sk-toggleable__label-arrow:before {content: \"▸\";float: left;margin-right: 0.25em;color: #696969;}#sk-container-id-8 label.sk-toggleable__label-arrow:hover:before {color: black;}#sk-container-id-8 div.sk-estimator:hover label.sk-toggleable__label-arrow:before {color: black;}#sk-container-id-8 div.sk-toggleable__content {max-height: 0;max-width: 0;overflow: hidden;text-align: left;background-color: #f0f8ff;}#sk-container-id-8 div.sk-toggleable__content pre {margin: 0.2em;color: black;border-radius: 0.25em;background-color: #f0f8ff;}#sk-container-id-8 input.sk-toggleable__control:checked~div.sk-toggleable__content {max-height: 200px;max-width: 100%;overflow: auto;}#sk-container-id-8 input.sk-toggleable__control:checked~label.sk-toggleable__label-arrow:before {content: \"▾\";}#sk-container-id-8 div.sk-estimator input.sk-toggleable__control:checked~label.sk-toggleable__label {background-color: #d4ebff;}#sk-container-id-8 div.sk-label input.sk-toggleable__control:checked~label.sk-toggleable__label {background-color: #d4ebff;}#sk-container-id-8 input.sk-hidden--visually {border: 0;clip: rect(1px 1px 1px 1px);clip: rect(1px, 1px, 1px, 1px);height: 1px;margin: -1px;overflow: hidden;padding: 0;position: absolute;width: 1px;}#sk-container-id-8 div.sk-estimator {font-family: monospace;background-color: #f0f8ff;border: 1px dotted black;border-radius: 0.25em;box-sizing: border-box;margin-bottom: 0.5em;}#sk-container-id-8 div.sk-estimator:hover {background-color: #d4ebff;}#sk-container-id-8 div.sk-parallel-item::after {content: \"\";width: 100%;border-bottom: 1px solid gray;flex-grow: 1;}#sk-container-id-8 div.sk-label:hover label.sk-toggleable__label {background-color: #d4ebff;}#sk-container-id-8 div.sk-serial::before {content: \"\";position: absolute;border-left: 1px solid gray;box-sizing: border-box;top: 0;bottom: 0;left: 50%;z-index: 0;}#sk-container-id-8 div.sk-serial {display: flex;flex-direction: column;align-items: center;background-color: white;padding-right: 0.2em;padding-left: 0.2em;position: relative;}#sk-container-id-8 div.sk-item {position: relative;z-index: 1;}#sk-container-id-8 div.sk-parallel {display: flex;align-items: stretch;justify-content: center;background-color: white;position: relative;}#sk-container-id-8 div.sk-item::before, #sk-container-id-8 div.sk-parallel-item::before {content: \"\";position: absolute;border-left: 1px solid gray;box-sizing: border-box;top: 0;bottom: 0;left: 50%;z-index: -1;}#sk-container-id-8 div.sk-parallel-item {display: flex;flex-direction: column;z-index: 1;position: relative;background-color: white;}#sk-container-id-8 div.sk-parallel-item:first-child::after {align-self: flex-end;width: 50%;}#sk-container-id-8 div.sk-parallel-item:last-child::after {align-self: flex-start;width: 50%;}#sk-container-id-8 div.sk-parallel-item:only-child::after {width: 0;}#sk-container-id-8 div.sk-dashed-wrapped {border: 1px dashed gray;margin: 0 0.4em 0.5em 0.4em;box-sizing: border-box;padding-bottom: 0.4em;background-color: white;}#sk-container-id-8 div.sk-label label {font-family: monospace;font-weight: bold;display: inline-block;line-height: 1.2em;}#sk-container-id-8 div.sk-label-container {text-align: center;}#sk-container-id-8 div.sk-container {/* jupyter's `normalize.less` sets `[hidden] { display: none; }` but bootstrap.min.css set `[hidden] { display: none !important; }` so we also need the `!important` here to be able to override the default hidden behavior on the sphinx rendered scikit-learn.org. See: https://github.com/scikit-learn/scikit-learn/issues/21755 */display: inline-block !important;position: relative;}#sk-container-id-8 div.sk-text-repr-fallback {display: none;}</style><div id=\"sk-container-id-8\" class=\"sk-top-container\"><div class=\"sk-text-repr-fallback\"><pre>XGBClassifier(base_score=0.5, booster=&#x27;gbtree&#x27;, callbacks=None,\n",
       "              colsample_bylevel=1, colsample_bynode=1, colsample_bytree=1,\n",
       "              early_stopping_rounds=None, enable_categorical=False,\n",
       "              eval_metric=None, gamma=0, gpu_id=-1, grow_policy=&#x27;depthwise&#x27;,\n",
       "              importance_type=None, interaction_constraints=&#x27;&#x27;,\n",
       "              learning_rate=0.300000012, max_bin=256, max_cat_to_onehot=4,\n",
       "              max_delta_step=0, max_depth=6, max_leaves=0, min_child_weight=1,\n",
       "              missing=nan, monotone_constraints=&#x27;()&#x27;, n_estimators=100,\n",
       "              n_jobs=0, num_parallel_tree=1, predictor=&#x27;auto&#x27;, random_state=0,\n",
       "              reg_alpha=0, reg_lambda=1, ...)</pre><b>In a Jupyter environment, please rerun this cell to show the HTML representation or trust the notebook. <br />On GitHub, the HTML representation is unable to render, please try loading this page with nbviewer.org.</b></div><div class=\"sk-container\" hidden><div class=\"sk-item\"><div class=\"sk-estimator sk-toggleable\"><input class=\"sk-toggleable__control sk-hidden--visually\" id=\"sk-estimator-id-8\" type=\"checkbox\" checked><label for=\"sk-estimator-id-8\" class=\"sk-toggleable__label sk-toggleable__label-arrow\">XGBClassifier</label><div class=\"sk-toggleable__content\"><pre>XGBClassifier(base_score=0.5, booster=&#x27;gbtree&#x27;, callbacks=None,\n",
       "              colsample_bylevel=1, colsample_bynode=1, colsample_bytree=1,\n",
       "              early_stopping_rounds=None, enable_categorical=False,\n",
       "              eval_metric=None, gamma=0, gpu_id=-1, grow_policy=&#x27;depthwise&#x27;,\n",
       "              importance_type=None, interaction_constraints=&#x27;&#x27;,\n",
       "              learning_rate=0.300000012, max_bin=256, max_cat_to_onehot=4,\n",
       "              max_delta_step=0, max_depth=6, max_leaves=0, min_child_weight=1,\n",
       "              missing=nan, monotone_constraints=&#x27;()&#x27;, n_estimators=100,\n",
       "              n_jobs=0, num_parallel_tree=1, predictor=&#x27;auto&#x27;, random_state=0,\n",
       "              reg_alpha=0, reg_lambda=1, ...)</pre></div></div></div></div></div>"
      ],
      "text/plain": [
       "XGBClassifier(base_score=0.5, booster='gbtree', callbacks=None,\n",
       "              colsample_bylevel=1, colsample_bynode=1, colsample_bytree=1,\n",
       "              early_stopping_rounds=None, enable_categorical=False,\n",
       "              eval_metric=None, gamma=0, gpu_id=-1, grow_policy='depthwise',\n",
       "              importance_type=None, interaction_constraints='',\n",
       "              learning_rate=0.300000012, max_bin=256, max_cat_to_onehot=4,\n",
       "              max_delta_step=0, max_depth=6, max_leaves=0, min_child_weight=1,\n",
       "              missing=nan, monotone_constraints='()', n_estimators=100,\n",
       "              n_jobs=0, num_parallel_tree=1, predictor='auto', random_state=0,\n",
       "              reg_alpha=0, reg_lambda=1, ...)"
      ]
     },
     "execution_count": 366,
     "metadata": {},
     "output_type": "execute_result"
    }
   ],
   "source": [
    "model = xgb.XGBClassifier()\n",
    "model.fit(x_train, y_train)"
   ]
  },
  {
   "cell_type": "code",
   "execution_count": 367,
   "metadata": {},
   "outputs": [
    {
     "name": "stdout",
     "output_type": "stream",
     "text": [
      "Mean cross-validation score: 0.45\n"
     ]
    }
   ],
   "source": [
    "scores = cross_val_score(model, x_train, y_train, cv=5)\n",
    "print(\"Mean cross-validation score: %.2f\" % scores.mean())"
   ]
  },
  {
   "cell_type": "code",
   "execution_count": 368,
   "metadata": {},
   "outputs": [
    {
     "name": "stdout",
     "output_type": "stream",
     "text": [
      "K-fold CV average score: 0.44\n"
     ]
    }
   ],
   "source": [
    "kfold = KFold(n_splits=10, shuffle=True)\n",
    "kf_cv_scores = cross_val_score(model, x_train, y_train, cv=kfold )\n",
    "print(\"K-fold CV average score: %.2f\" % kf_cv_scores.mean())"
   ]
  },
  {
   "cell_type": "code",
   "execution_count": 369,
   "metadata": {},
   "outputs": [],
   "source": [
    "def plot_confusion_matrix(cm, classes, \n",
    "                            normalize=False, \n",
    "                            title='Confusion matrix', \n",
    "                            cmap=plt.cm.Blues):\n",
    "\n",
    "    if normalize:\n",
    "        cm = cm.astype('float') / cm.sum(axis=1)[:, np.newaxis]\n",
    "        print(\"Normalized confusion matrix\")\n",
    "    else:\n",
    "        print('Confusion matrix, without normalization')\n",
    "\n",
    "    print(cm)\n",
    "\n",
    "    plt.imshow(cm, interpolation='nearest', cmap=cmap)\n",
    "    plt.title(title)\n",
    "    plt.colorbar()\n",
    "    tick_marks = np.arange(len(classes))\n",
    "    plt.xticks(tick_marks, classes, rotation=45)\n",
    "    plt.yticks(tick_marks, classes)\n",
    "\n",
    "    fmt = '.2f' if normalize else 'd'\n",
    "    thresh = cm.max() / 2.\n",
    "    for i, j in itertools.product(range(cm.shape[0]), range(cm.shape[1])):\n",
    "        plt.text(j, i, format(cm[i, j], fmt),\n",
    "            horizontalalignment=\"center\",\n",
    "            color=\"white\" if cm[i, j] > thresh else \"black\")\n",
    "    plt.tight_layout()\n",
    "    plt.ylabel('True label')\n",
    "    plt.xlabel('Predicted label')"
   ]
  },
  {
   "cell_type": "code",
   "execution_count": 370,
   "metadata": {},
   "outputs": [],
   "source": [
    "def Evaluation(model, X_train, y_train, X_test, y_test):\n",
    "    pred = model.predict(X_train)\n",
    "    yhat = model.predict(X_test)\n",
    "    print(classification_report(y_test, yhat))\n",
    "    print(\"_______________________________________________\")\n",
    "\n",
    "    train_score = accuracy_score(y_train, pred) * 100\n",
    "    test_score = accuracy_score(y_test, yhat) * 100\n",
    "\n",
    "    print(f\"Train accuracy Score: {train_score}%\")\n",
    "    print(f\"Test accuracy Score: {test_score}%\")\n",
    "\n",
    "    cnf = confusion_matrix(y_test, yhat, labels=[1,0])\n",
    "    plt.figure()\n",
    "    plot_confusion_matrix(cnf,classes=['output =1', 'output=0'],normalize = False, title='Confusion matrix')\n",
    "\n",
    "    return  train_score, test_score, cnf"
   ]
  },
  {
   "cell_type": "code",
   "execution_count": 371,
   "metadata": {},
   "outputs": [
    {
     "name": "stdout",
     "output_type": "stream",
     "text": [
      "              precision    recall  f1-score   support\n",
      "\n",
      "           0       0.00      0.00      0.00         3\n",
      "           1       0.57      1.00      0.73         4\n",
      "\n",
      "    accuracy                           0.57         7\n",
      "   macro avg       0.29      0.50      0.36         7\n",
      "weighted avg       0.33      0.57      0.42         7\n",
      "\n",
      "_______________________________________________\n",
      "Train accuracy Score: 100.0%\n",
      "Test accuracy Score: 57.14285714285714%\n",
      "Confusion matrix, without normalization\n",
      "[[4 0]\n",
      " [3 0]]\n"
     ]
    },
    {
     "data": {
      "image/png": "[encoded data removed]",
      "text/plain": [
       "<Figure size 432x288 with 2 Axes>"
      ]
     },
     "metadata": {
      "needs_background": "light"
     },
     "output_type": "display_data"
    }
   ],
   "source": [
    "x, y, cnf = Evaluation(model, x_train, y_train, x_test, y_test)\n",
    "\n",
    "results_df = pd.DataFrame(data=[[\"XGBoost\", x, y]], \n",
    "                          columns=['Model', 'Training Accuracy %', 'Testing Accuracy %'])"
   ]
  }
 ],
 "metadata": {
  "kernelspec": {
   "display_name": "Python 3.10.5 64-bit",
   "language": "python",
   "name": "python3"
  },
  "language_info": {
   "codemirror_mode": {
    "name": "ipython",
    "version": 3
   },
   "file_extension": ".py",
   "mimetype": "text/x-python",
   "name": "python",
   "nbconvert_exporter": "python",
   "pygments_lexer": "ipython3",
   "version": "3.10.5"
  },
  "orig_nbformat": 4,
  "vscode": {
   "interpreter": {
    "hash": "6f33e2aab1947ef18b04b3819b323c052dfcdf5c9ef637e8187270b943f31089"
   }
  }
 },
 "nbformat": 4,
 "nbformat_minor": 2
}

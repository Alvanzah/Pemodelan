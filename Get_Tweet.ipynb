{
 "cells": [
  {
   "cell_type": "code",
   "execution_count": 71,
   "metadata": {},
   "outputs": [],
   "source": [
    "import pandas as pd\n",
    "import snscrape.modules.twitter as snstwitter"
   ]
  },
  {
   "cell_type": "markdown",
   "metadata": {},
   "source": [
    "## Bitcoin"
   ]
  },
  {
   "cell_type": "code",
   "execution_count": 116,
   "metadata": {},
   "outputs": [],
   "source": [
    "tweet_perday = []\n",
    "df = pd.DataFrame([])\n",
    "\n",
    "for i in range(38):\n",
    "    j = pd.to_datetime('2021-08-01').date() + pd.Timedelta(days=i)\n",
    "    k = pd.to_datetime('2021-08-01').date() + pd.Timedelta(days=i+1)\n",
    "    query = f'(btc OR bitcoin OR cryptocurrency OR crypto OR blockchain OR $btc) min_faves:100 lang:en until:{k} since:{j} -is:nullcast'\n",
    "    tweets = []\n",
    "    limits = 100000\n",
    "\n",
    "    for tweet in snstwitter.TwitterSearchScraper(query).get_items():\n",
    "        if len(tweets) == limits:\n",
    "            break\n",
    "        else:\n",
    "            tweets.append([tweet.date, tweet.retweetCount,tweet.replyCount, tweet.likeCount,tweet.content])\n",
    "        \n",
    "    tweet_perday.append(len(tweets))\n",
    "    temp = pd.DataFrame(tweets, columns=['Date', 'Retweet', 'Reply', 'Likes', 'Tweet'])\n",
    "    df = pd.concat([df, temp.sort_values('Likes', ascending=False)[:500]], ignore_index=True)"
   ]
  },
  {
   "cell_type": "code",
   "execution_count": 117,
   "metadata": {},
   "outputs": [],
   "source": [
    "df.to_csv('BTC_Tweets.csv')"
   ]
  },
  {
   "cell_type": "code",
   "execution_count": 120,
   "metadata": {},
   "outputs": [
    {
     "data": {
      "text/plain": [
       "(17835, 5)"
      ]
     },
     "execution_count": 120,
     "metadata": {},
     "output_type": "execute_result"
    }
   ],
   "source": [
    "df.shape"
   ]
  },
  {
   "cell_type": "code",
   "execution_count": 118,
   "metadata": {},
   "outputs": [
    {
     "data": {
      "text/html": [
       "<div>\n",
       "<style scoped>\n",
       "    .dataframe tbody tr th:only-of-type {\n",
       "        vertical-align: middle;\n",
       "    }\n",
       "\n",
       "    .dataframe tbody tr th {\n",
       "        vertical-align: top;\n",
       "    }\n",
       "\n",
       "    .dataframe thead th {\n",
       "        text-align: right;\n",
       "    }\n",
       "</style>\n",
       "<table border=\"1\" class=\"dataframe\">\n",
       "  <thead>\n",
       "    <tr style=\"text-align: right;\">\n",
       "      <th></th>\n",
       "      <th>Date</th>\n",
       "      <th>Retweet</th>\n",
       "      <th>Reply</th>\n",
       "      <th>Likes</th>\n",
       "      <th>Tweet</th>\n",
       "    </tr>\n",
       "  </thead>\n",
       "  <tbody>\n",
       "    <tr>\n",
       "      <th>0</th>\n",
       "      <td>2021-08-01 12:14:58+00:00</td>\n",
       "      <td>2125</td>\n",
       "      <td>1146</td>\n",
       "      <td>14393</td>\n",
       "      <td>A node is an altar to truth. A wallet is a wea...</td>\n",
       "    </tr>\n",
       "    <tr>\n",
       "      <th>1</th>\n",
       "      <td>2021-08-01 06:52:59+00:00</td>\n",
       "      <td>2125</td>\n",
       "      <td>484</td>\n",
       "      <td>13517</td>\n",
       "      <td>#bitcoin July closing price $41,490 ... it bou...</td>\n",
       "    </tr>\n",
       "    <tr>\n",
       "      <th>2</th>\n",
       "      <td>2021-08-01 05:33:57+00:00</td>\n",
       "      <td>3259</td>\n",
       "      <td>952</td>\n",
       "      <td>12759</td>\n",
       "      <td>Bitcoin mining is really bad for the environme...</td>\n",
       "    </tr>\n",
       "    <tr>\n",
       "      <th>3</th>\n",
       "      <td>2021-08-01 05:05:19+00:00</td>\n",
       "      <td>1786</td>\n",
       "      <td>27</td>\n",
       "      <td>11749</td>\n",
       "      <td>You can't stop #bitcoin by talking badly about...</td>\n",
       "    </tr>\n",
       "    <tr>\n",
       "      <th>4</th>\n",
       "      <td>2021-08-01 20:30:14+00:00</td>\n",
       "      <td>6714</td>\n",
       "      <td>4689</td>\n",
       "      <td>10799</td>\n",
       "      <td>📣 Wierd Finance Airdrop is live!\\n\\n🏆 Reward f...</td>\n",
       "    </tr>\n",
       "  </tbody>\n",
       "</table>\n",
       "</div>"
      ],
      "text/plain": [
       "                       Date  Retweet  Reply  Likes  \\\n",
       "0 2021-08-01 12:14:58+00:00     2125   1146  14393   \n",
       "1 2021-08-01 06:52:59+00:00     2125    484  13517   \n",
       "2 2021-08-01 05:33:57+00:00     3259    952  12759   \n",
       "3 2021-08-01 05:05:19+00:00     1786     27  11749   \n",
       "4 2021-08-01 20:30:14+00:00     6714   4689  10799   \n",
       "\n",
       "                                               Tweet  \n",
       "0  A node is an altar to truth. A wallet is a wea...  \n",
       "1  #bitcoin July closing price $41,490 ... it bou...  \n",
       "2  Bitcoin mining is really bad for the environme...  \n",
       "3  You can't stop #bitcoin by talking badly about...  \n",
       "4  📣 Wierd Finance Airdrop is live!\\n\\n🏆 Reward f...  "
      ]
     },
     "execution_count": 118,
     "metadata": {},
     "output_type": "execute_result"
    }
   ],
   "source": [
    "df.head()"
   ]
  },
  {
   "cell_type": "code",
   "execution_count": 119,
   "metadata": {},
   "outputs": [],
   "source": [
    "pd.Series(tweet_perday).to_csv('BTC_tweet_perday.csv')"
   ]
  },
  {
   "cell_type": "markdown",
   "metadata": {},
   "source": [
    "## Ethereum"
   ]
  },
  {
   "cell_type": "code",
   "execution_count": 109,
   "metadata": {},
   "outputs": [],
   "source": [
    "tweet_perday = []\n",
    "df = pd.DataFrame([])\n",
    "\n",
    "for i in range(38):\n",
    "    j = pd.to_datetime('2021-08-01').date() + pd.Timedelta(days=i)\n",
    "    k = pd.to_datetime('2021-08-01').date() + pd.Timedelta(days=i+1)\n",
    "    query = f'(eth OR ether OR ethereum OR cryptocurrency OR crypto OR blockchain OR $eth) min_faves:100 lang:en until:{k} since:{j} -is:nullcast'\n",
    "    tweets = []\n",
    "    limits = 100000\n",
    "\n",
    "    for tweet in snstwitter.TwitterSearchScraper(query).get_items():\n",
    "        if len(tweets) == limits:\n",
    "            break\n",
    "        else:\n",
    "            tweets.append([tweet.date, tweet.retweetCount,tweet.replyCount, tweet.likeCount,tweet.content])\n",
    "        \n",
    "    tweet_perday.append(len(tweets))\n",
    "    temp = pd.DataFrame(tweets, columns=['Date', 'Retweet', 'Reply', 'Likes', 'Tweet'])\n",
    "    df = pd.concat([df, temp.sort_values('Likes', ascending=False)[:500]], ignore_index=True)"
   ]
  },
  {
   "cell_type": "code",
   "execution_count": 110,
   "metadata": {},
   "outputs": [],
   "source": [
    "df.to_csv('ETH_Tweets.csv')"
   ]
  },
  {
   "cell_type": "code",
   "execution_count": 115,
   "metadata": {},
   "outputs": [
    {
     "data": {
      "text/html": [
       "<div>\n",
       "<style scoped>\n",
       "    .dataframe tbody tr th:only-of-type {\n",
       "        vertical-align: middle;\n",
       "    }\n",
       "\n",
       "    .dataframe tbody tr th {\n",
       "        vertical-align: top;\n",
       "    }\n",
       "\n",
       "    .dataframe thead th {\n",
       "        text-align: right;\n",
       "    }\n",
       "</style>\n",
       "<table border=\"1\" class=\"dataframe\">\n",
       "  <thead>\n",
       "    <tr style=\"text-align: right;\">\n",
       "      <th></th>\n",
       "      <th>Date</th>\n",
       "      <th>Retweet</th>\n",
       "      <th>Reply</th>\n",
       "      <th>Likes</th>\n",
       "      <th>Tweet</th>\n",
       "    </tr>\n",
       "  </thead>\n",
       "  <tbody>\n",
       "    <tr>\n",
       "      <th>0</th>\n",
       "      <td>2021-08-01 20:30:14+00:00</td>\n",
       "      <td>6714</td>\n",
       "      <td>4689</td>\n",
       "      <td>10799</td>\n",
       "      <td>📣 Wierd Finance Airdrop is live!\\n\\n🏆 Reward f...</td>\n",
       "    </tr>\n",
       "    <tr>\n",
       "      <th>1</th>\n",
       "      <td>2021-08-01 13:00:36+00:00</td>\n",
       "      <td>2360</td>\n",
       "      <td>77</td>\n",
       "      <td>10282</td>\n",
       "      <td>Crypto bro learns a valuable lesson about nfts...</td>\n",
       "    </tr>\n",
       "    <tr>\n",
       "      <th>2</th>\n",
       "      <td>2021-08-01 01:18:44+00:00</td>\n",
       "      <td>13506</td>\n",
       "      <td>9008</td>\n",
       "      <td>7084</td>\n",
       "      <td>$500 CRYPTO || 6,8 JUTA IDR\\n|| one winner || ...</td>\n",
       "    </tr>\n",
       "    <tr>\n",
       "      <th>3</th>\n",
       "      <td>2021-08-01 06:31:45+00:00</td>\n",
       "      <td>13546</td>\n",
       "      <td>5853</td>\n",
       "      <td>6982</td>\n",
       "      <td>$500 CRYPTO || 6,8 JUTA IDR\\n|| one winner || ...</td>\n",
       "    </tr>\n",
       "    <tr>\n",
       "      <th>4</th>\n",
       "      <td>2021-08-01 13:33:00+00:00</td>\n",
       "      <td>323</td>\n",
       "      <td>280</td>\n",
       "      <td>6536</td>\n",
       "      <td>Only future #crypto millionaires or billionair...</td>\n",
       "    </tr>\n",
       "  </tbody>\n",
       "</table>\n",
       "</div>"
      ],
      "text/plain": [
       "                       Date  Retweet  Reply  Likes  \\\n",
       "0 2021-08-01 20:30:14+00:00     6714   4689  10799   \n",
       "1 2021-08-01 13:00:36+00:00     2360     77  10282   \n",
       "2 2021-08-01 01:18:44+00:00    13506   9008   7084   \n",
       "3 2021-08-01 06:31:45+00:00    13546   5853   6982   \n",
       "4 2021-08-01 13:33:00+00:00      323    280   6536   \n",
       "\n",
       "                                               Tweet  \n",
       "0  📣 Wierd Finance Airdrop is live!\\n\\n🏆 Reward f...  \n",
       "1  Crypto bro learns a valuable lesson about nfts...  \n",
       "2  $500 CRYPTO || 6,8 JUTA IDR\\n|| one winner || ...  \n",
       "3  $500 CRYPTO || 6,8 JUTA IDR\\n|| one winner || ...  \n",
       "4  Only future #crypto millionaires or billionair...  "
      ]
     },
     "execution_count": 115,
     "metadata": {},
     "output_type": "execute_result"
    }
   ],
   "source": [
    "df.head()"
   ]
  },
  {
   "cell_type": "code",
   "execution_count": 114,
   "metadata": {},
   "outputs": [],
   "source": [
    "pd.Series(tweet_perday).to_csv('ETH_tweet_perday.csv')"
   ]
  }
 ],
 "metadata": {
  "kernelspec": {
   "display_name": "Python 3.10.5 64-bit",
   "language": "python",
   "name": "python3"
  },
  "language_info": {
   "codemirror_mode": {
    "name": "ipython",
    "version": 3
   },
   "file_extension": ".py",
   "mimetype": "text/x-python",
   "name": "python",
   "nbconvert_exporter": "python",
   "pygments_lexer": "ipython3",
   "version": "3.10.5"
  },
  "orig_nbformat": 4,
  "vscode": {
   "interpreter": {
    "hash": "6f33e2aab1947ef18b04b3819b323c052dfcdf5c9ef637e8187270b943f31089"
   }
  }
 },
 "nbformat": 4,
 "nbformat_minor": 2
}

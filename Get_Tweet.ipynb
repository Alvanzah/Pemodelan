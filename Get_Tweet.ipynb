{
 "cells": [
  {
   "cell_type": "code",
   "execution_count": 6,
   "metadata": {},
   "outputs": [],
   "source": [
    "import pandas as pd\n",
    "import snscrape.modules.twitter as snstwitter\n",
    "from tqdm import tqdm"
   ]
  },
  {
   "cell_type": "markdown",
   "metadata": {},
   "source": [
    "## Bitcoin"
   ]
  },
  {
   "cell_type": "code",
   "execution_count": 7,
   "metadata": {},
   "outputs": [
    {
     "name": "stderr",
     "output_type": "stream",
     "text": [
      "100%|██████████| 38/38 [04:52<00:00,  7.71s/it]\n"
     ]
    }
   ],
   "source": [
    "tweet_perday = []\n",
    "df = pd.DataFrame([])\n",
    "\n",
    "for i in tqdm(range(38), total=38):\n",
    "    j = pd.to_datetime('2020-07-01').date() + pd.Timedelta(days=i)\n",
    "    k = pd.to_datetime('2020-07-01').date() + pd.Timedelta(days=i+1)\n",
    "    query = f'(btc OR bitcoin OR cryptocurrency OR crypto OR blockchain OR $btc) min_faves:100 lang:en until:{k} since:{j} -is:nullcast'\n",
    "    tweets = []\n",
    "    limits = 100000\n",
    "\n",
    "    for tweet in snstwitter.TwitterSearchScraper(query).get_items():\n",
    "        if len(tweets) == limits:\n",
    "            break\n",
    "        else:\n",
    "            tweets.append([tweet.date, tweet.retweetCount,tweet.replyCount, tweet.likeCount,tweet.content])\n",
    "        \n",
    "    tweet_perday.append(len(tweets))\n",
    "    temp = pd.DataFrame(tweets, columns=['Date', 'Retweet', 'Reply', 'Likes', 'Tweet'])\n",
    "    df = pd.concat([df, temp.sort_values('Likes', ascending=False)[:500]], ignore_index=True)"
   ]
  },
  {
   "cell_type": "code",
   "execution_count": 8,
   "metadata": {},
   "outputs": [],
   "source": [
    "df.to_csv('BTC_Tweets.csv')"
   ]
  },
  {
   "cell_type": "code",
   "execution_count": 9,
   "metadata": {},
   "outputs": [
    {
     "data": {
      "text/plain": [
       "(6081, 5)"
      ]
     },
     "execution_count": 9,
     "metadata": {},
     "output_type": "execute_result"
    }
   ],
   "source": [
    "df.shape"
   ]
  },
  {
   "cell_type": "code",
   "execution_count": 10,
   "metadata": {},
   "outputs": [
    {
     "data": {
      "text/html": [
       "<div>\n",
       "<style scoped>\n",
       "    .dataframe tbody tr th:only-of-type {\n",
       "        vertical-align: middle;\n",
       "    }\n",
       "\n",
       "    .dataframe tbody tr th {\n",
       "        vertical-align: top;\n",
       "    }\n",
       "\n",
       "    .dataframe thead th {\n",
       "        text-align: right;\n",
       "    }\n",
       "</style>\n",
       "<table border=\"1\" class=\"dataframe\">\n",
       "  <thead>\n",
       "    <tr style=\"text-align: right;\">\n",
       "      <th></th>\n",
       "      <th>Date</th>\n",
       "      <th>Retweet</th>\n",
       "      <th>Reply</th>\n",
       "      <th>Likes</th>\n",
       "      <th>Tweet</th>\n",
       "    </tr>\n",
       "  </thead>\n",
       "  <tbody>\n",
       "    <tr>\n",
       "      <th>0</th>\n",
       "      <td>2020-07-01 08:25:58+00:00</td>\n",
       "      <td>694</td>\n",
       "      <td>165</td>\n",
       "      <td>3022</td>\n",
       "      <td>#Bitcoin S2F chart update .. RED DOT #2 🔴 http...</td>\n",
       "    </tr>\n",
       "    <tr>\n",
       "      <th>1</th>\n",
       "      <td>2020-07-01 01:32:23+00:00</td>\n",
       "      <td>301</td>\n",
       "      <td>122</td>\n",
       "      <td>2875</td>\n",
       "      <td>Bitcoin will soon do to banks what email did t...</td>\n",
       "    </tr>\n",
       "    <tr>\n",
       "      <th>2</th>\n",
       "      <td>2020-07-01 23:00:05+00:00</td>\n",
       "      <td>318</td>\n",
       "      <td>43</td>\n",
       "      <td>2098</td>\n",
       "      <td>💻 Two new teasers have dropped in #ApexLegends...</td>\n",
       "    </tr>\n",
       "    <tr>\n",
       "      <th>3</th>\n",
       "      <td>2020-07-01 17:01:32+00:00</td>\n",
       "      <td>172</td>\n",
       "      <td>148</td>\n",
       "      <td>1714</td>\n",
       "      <td>10 bitcoin to be a billionaire.</td>\n",
       "    </tr>\n",
       "    <tr>\n",
       "      <th>4</th>\n",
       "      <td>2020-07-01 12:33:03+00:00</td>\n",
       "      <td>2195</td>\n",
       "      <td>917</td>\n",
       "      <td>1681</td>\n",
       "      <td>I will give someone $150 in 24hours all you ha...</td>\n",
       "    </tr>\n",
       "  </tbody>\n",
       "</table>\n",
       "</div>"
      ],
      "text/plain": [
       "                       Date  Retweet  Reply  Likes  \\\n",
       "0 2020-07-01 08:25:58+00:00      694    165   3022   \n",
       "1 2020-07-01 01:32:23+00:00      301    122   2875   \n",
       "2 2020-07-01 23:00:05+00:00      318     43   2098   \n",
       "3 2020-07-01 17:01:32+00:00      172    148   1714   \n",
       "4 2020-07-01 12:33:03+00:00     2195    917   1681   \n",
       "\n",
       "                                               Tweet  \n",
       "0  #Bitcoin S2F chart update .. RED DOT #2 🔴 http...  \n",
       "1  Bitcoin will soon do to banks what email did t...  \n",
       "2  💻 Two new teasers have dropped in #ApexLegends...  \n",
       "3                    10 bitcoin to be a billionaire.  \n",
       "4  I will give someone $150 in 24hours all you ha...  "
      ]
     },
     "execution_count": 10,
     "metadata": {},
     "output_type": "execute_result"
    }
   ],
   "source": [
    "df.head()"
   ]
  },
  {
   "cell_type": "code",
   "execution_count": 11,
   "metadata": {},
   "outputs": [],
   "source": [
    "pd.Series(tweet_perday).to_csv('BTC_tweet_perday.csv')"
   ]
  },
  {
   "cell_type": "markdown",
   "metadata": {},
   "source": [
    "## Ethereum"
   ]
  },
  {
   "cell_type": "code",
   "execution_count": 12,
   "metadata": {},
   "outputs": [
    {
     "name": "stderr",
     "output_type": "stream",
     "text": [
      "100%|██████████| 38/38 [02:55<00:00,  4.62s/it]\n"
     ]
    }
   ],
   "source": [
    "tweet_perday = []\n",
    "df = pd.DataFrame([])\n",
    "\n",
    "for i in tqdm(range(38), total=38):\n",
    "    j = pd.to_datetime('2020-07-01').date() + pd.Timedelta(days=i)\n",
    "    k = pd.to_datetime('2020-07-01').date() + pd.Timedelta(days=i+1)\n",
    "    query = f'(eth OR ether OR ethereum OR cryptocurrency OR crypto OR blockchain OR $eth) min_faves:100 lang:en until:{k} since:{j} -is:nullcast'\n",
    "    tweets = []\n",
    "    limits = 100000\n",
    "\n",
    "    for tweet in snstwitter.TwitterSearchScraper(query).get_items():\n",
    "        if len(tweets) == limits:\n",
    "            break\n",
    "        else:\n",
    "            tweets.append([tweet.date, tweet.retweetCount,tweet.replyCount, tweet.likeCount,tweet.content])\n",
    "        \n",
    "    tweet_perday.append(len(tweets))\n",
    "    temp = pd.DataFrame(tweets, columns=['Date', 'Retweet', 'Reply', 'Likes', 'Tweet'])\n",
    "    df = pd.concat([df, temp.sort_values('Likes', ascending=False)[:500]], ignore_index=True)"
   ]
  },
  {
   "cell_type": "code",
   "execution_count": 13,
   "metadata": {},
   "outputs": [],
   "source": [
    "df.to_csv('ETH_Tweets.csv')"
   ]
  },
  {
   "cell_type": "code",
   "execution_count": 17,
   "metadata": {},
   "outputs": [
    {
     "data": {
      "text/plain": [
       "(3379, 5)"
      ]
     },
     "execution_count": 17,
     "metadata": {},
     "output_type": "execute_result"
    }
   ],
   "source": [
    "df.shape"
   ]
  },
  {
   "cell_type": "code",
   "execution_count": 14,
   "metadata": {},
   "outputs": [
    {
     "data": {
      "text/html": [
       "<div>\n",
       "<style scoped>\n",
       "    .dataframe tbody tr th:only-of-type {\n",
       "        vertical-align: middle;\n",
       "    }\n",
       "\n",
       "    .dataframe tbody tr th {\n",
       "        vertical-align: top;\n",
       "    }\n",
       "\n",
       "    .dataframe thead th {\n",
       "        text-align: right;\n",
       "    }\n",
       "</style>\n",
       "<table border=\"1\" class=\"dataframe\">\n",
       "  <thead>\n",
       "    <tr style=\"text-align: right;\">\n",
       "      <th></th>\n",
       "      <th>Date</th>\n",
       "      <th>Retweet</th>\n",
       "      <th>Reply</th>\n",
       "      <th>Likes</th>\n",
       "      <th>Tweet</th>\n",
       "    </tr>\n",
       "  </thead>\n",
       "  <tbody>\n",
       "    <tr>\n",
       "      <th>0</th>\n",
       "      <td>2020-07-01 23:00:05+00:00</td>\n",
       "      <td>318</td>\n",
       "      <td>43</td>\n",
       "      <td>2098</td>\n",
       "      <td>💻 Two new teasers have dropped in #ApexLegends...</td>\n",
       "    </tr>\n",
       "    <tr>\n",
       "      <th>1</th>\n",
       "      <td>2020-07-01 12:33:03+00:00</td>\n",
       "      <td>2195</td>\n",
       "      <td>917</td>\n",
       "      <td>1681</td>\n",
       "      <td>I will give someone $150 in 24hours all you ha...</td>\n",
       "    </tr>\n",
       "    <tr>\n",
       "      <th>2</th>\n",
       "      <td>2020-07-01 11:33:16+00:00</td>\n",
       "      <td>207</td>\n",
       "      <td>6</td>\n",
       "      <td>1245</td>\n",
       "      <td>31 Days of Apex: Memory\\nCrypto's forever fami...</td>\n",
       "    </tr>\n",
       "    <tr>\n",
       "      <th>3</th>\n",
       "      <td>2020-07-01 20:02:49+00:00</td>\n",
       "      <td>417</td>\n",
       "      <td>75</td>\n",
       "      <td>1223</td>\n",
       "      <td>#Blockchain technology and #XRP play a fundame...</td>\n",
       "    </tr>\n",
       "    <tr>\n",
       "      <th>4</th>\n",
       "      <td>2020-07-01 15:03:23+00:00</td>\n",
       "      <td>1395</td>\n",
       "      <td>310</td>\n",
       "      <td>1150</td>\n",
       "      <td>Calling all blockchain game enthusiasts: we ar...</td>\n",
       "    </tr>\n",
       "  </tbody>\n",
       "</table>\n",
       "</div>"
      ],
      "text/plain": [
       "                       Date  Retweet  Reply  Likes  \\\n",
       "0 2020-07-01 23:00:05+00:00      318     43   2098   \n",
       "1 2020-07-01 12:33:03+00:00     2195    917   1681   \n",
       "2 2020-07-01 11:33:16+00:00      207      6   1245   \n",
       "3 2020-07-01 20:02:49+00:00      417     75   1223   \n",
       "4 2020-07-01 15:03:23+00:00     1395    310   1150   \n",
       "\n",
       "                                               Tweet  \n",
       "0  💻 Two new teasers have dropped in #ApexLegends...  \n",
       "1  I will give someone $150 in 24hours all you ha...  \n",
       "2  31 Days of Apex: Memory\\nCrypto's forever fami...  \n",
       "3  #Blockchain technology and #XRP play a fundame...  \n",
       "4  Calling all blockchain game enthusiasts: we ar...  "
      ]
     },
     "execution_count": 14,
     "metadata": {},
     "output_type": "execute_result"
    }
   ],
   "source": [
    "df.head()"
   ]
  },
  {
   "cell_type": "code",
   "execution_count": 15,
   "metadata": {},
   "outputs": [],
   "source": [
    "pd.Series(tweet_perday).to_csv('ETH_tweet_perday.csv')"
   ]
  }
 ],
 "metadata": {
  "kernelspec": {
   "display_name": "Python 3.10.5 64-bit",
   "language": "python",
   "name": "python3"
  },
  "language_info": {
   "codemirror_mode": {
    "name": "ipython",
    "version": 3
   },
   "file_extension": ".py",
   "mimetype": "text/x-python",
   "name": "python",
   "nbconvert_exporter": "python",
   "pygments_lexer": "ipython3",
   "version": "3.10.5"
  },
  "orig_nbformat": 4,
  "vscode": {
   "interpreter": {
    "hash": "6f33e2aab1947ef18b04b3819b323c052dfcdf5c9ef637e8187270b943f31089"
   }
  }
 },
 "nbformat": 4,
 "nbformat_minor": 2
}

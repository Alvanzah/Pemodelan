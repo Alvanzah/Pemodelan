{
 "cells": [
  {
   "cell_type": "code",
   "execution_count": 3,
   "metadata": {},
   "outputs": [],
   "source": [
    "import pandas as pd\n",
    "import snscrape.modules.twitter as snstwitter\n",
    "from tqdm import tqdm"
   ]
  },
  {
   "cell_type": "markdown",
   "metadata": {},
   "source": [
    "## Bitcoin"
   ]
  },
  {
   "cell_type": "code",
   "execution_count": 4,
   "metadata": {},
   "outputs": [
    {
     "name": "stderr",
     "output_type": "stream",
     "text": [
      "100%|██████████| 400/400 [59:15<00:00,  8.89s/it]\n"
     ]
    }
   ],
   "source": [
    "tweet_perday = []\n",
    "df = pd.DataFrame([])\n",
    "\n",
    "for i in tqdm(range(400), total=400):\n",
    "    j = pd.to_datetime('2020-01-01').date() + pd.Timedelta(days=i)\n",
    "    k = pd.to_datetime('2020-01-01').date() + pd.Timedelta(days=i+1)\n",
    "    query = f'(btc OR bitcoin OR cryptocurrency OR crypto OR blockchain OR $btc) min_faves:100 lang:en until:{k} since:{j} -is:nullcast'\n",
    "    tweets = []\n",
    "    limits = 10000\n",
    "\n",
    "    for tweet in snstwitter.TwitterSearchScraper(query).get_items():\n",
    "        if len(tweets) == limits:\n",
    "            break\n",
    "        else:\n",
    "            tweets.append([tweet.date, tweet.retweetCount,tweet.replyCount, tweet.likeCount,tweet.content])\n",
    "        \n",
    "    tweet_perday.append(len(tweets))\n",
    "    temp = pd.DataFrame(tweets, columns=['Date', 'Retweet', 'Reply', 'Likes', 'Tweet'])\n",
    "    df = pd.concat([df, temp.sort_values('Likes', ascending=False)], ignore_index=True)"
   ]
  },
  {
   "cell_type": "code",
   "execution_count": 5,
   "metadata": {},
   "outputs": [],
   "source": [
    "df.to_csv('BTC_Tweets_v2.csv')"
   ]
  },
  {
   "cell_type": "code",
   "execution_count": 6,
   "metadata": {},
   "outputs": [
    {
     "data": {
      "text/plain": [
       "(73884, 5)"
      ]
     },
     "execution_count": 6,
     "metadata": {},
     "output_type": "execute_result"
    }
   ],
   "source": [
    "df.shape"
   ]
  },
  {
   "cell_type": "code",
   "execution_count": 7,
   "metadata": {},
   "outputs": [
    {
     "data": {
      "text/html": [
       "<div>\n",
       "<style scoped>\n",
       "    .dataframe tbody tr th:only-of-type {\n",
       "        vertical-align: middle;\n",
       "    }\n",
       "\n",
       "    .dataframe tbody tr th {\n",
       "        vertical-align: top;\n",
       "    }\n",
       "\n",
       "    .dataframe thead th {\n",
       "        text-align: right;\n",
       "    }\n",
       "</style>\n",
       "<table border=\"1\" class=\"dataframe\">\n",
       "  <thead>\n",
       "    <tr style=\"text-align: right;\">\n",
       "      <th></th>\n",
       "      <th>Date</th>\n",
       "      <th>Retweet</th>\n",
       "      <th>Reply</th>\n",
       "      <th>Likes</th>\n",
       "      <th>Tweet</th>\n",
       "    </tr>\n",
       "  </thead>\n",
       "  <tbody>\n",
       "    <tr>\n",
       "      <th>73879</th>\n",
       "      <td>2021-02-03 08:13:47+00:00</td>\n",
       "      <td>44</td>\n",
       "      <td>10</td>\n",
       "      <td>113</td>\n",
       "      <td>SMASH OR PASS? \\n\\nClick this link to join thi...</td>\n",
       "    </tr>\n",
       "    <tr>\n",
       "      <th>73880</th>\n",
       "      <td>2021-02-03 19:16:04+00:00</td>\n",
       "      <td>4</td>\n",
       "      <td>16</td>\n",
       "      <td>112</td>\n",
       "      <td>It's not gay if it's Saylor right..?? \\n#Bitco...</td>\n",
       "    </tr>\n",
       "    <tr>\n",
       "      <th>73881</th>\n",
       "      <td>2021-02-03 04:22:43+00:00</td>\n",
       "      <td>4</td>\n",
       "      <td>6</td>\n",
       "      <td>108</td>\n",
       "      <td>My favorite 3rd-order effect of #bitcoin adopt...</td>\n",
       "    </tr>\n",
       "    <tr>\n",
       "      <th>73882</th>\n",
       "      <td>2021-02-03 17:06:41+00:00</td>\n",
       "      <td>1</td>\n",
       "      <td>9</td>\n",
       "      <td>106</td>\n",
       "      <td>Bitcoin at 37,000 and I'm still in the red lma...</td>\n",
       "    </tr>\n",
       "    <tr>\n",
       "      <th>73883</th>\n",
       "      <td>2021-02-03 06:30:14+00:00</td>\n",
       "      <td>93</td>\n",
       "      <td>7</td>\n",
       "      <td>95</td>\n",
       "      <td>Shorts 4k\\nJoggers 5k\\nHoodies 5k\\nJerseys 5k\\...</td>\n",
       "    </tr>\n",
       "  </tbody>\n",
       "</table>\n",
       "</div>"
      ],
      "text/plain": [
       "                           Date  Retweet  Reply  Likes  \\\n",
       "73879 2021-02-03 08:13:47+00:00       44     10    113   \n",
       "73880 2021-02-03 19:16:04+00:00        4     16    112   \n",
       "73881 2021-02-03 04:22:43+00:00        4      6    108   \n",
       "73882 2021-02-03 17:06:41+00:00        1      9    106   \n",
       "73883 2021-02-03 06:30:14+00:00       93      7     95   \n",
       "\n",
       "                                                   Tweet  \n",
       "73879  SMASH OR PASS? \\n\\nClick this link to join thi...  \n",
       "73880  It's not gay if it's Saylor right..?? \\n#Bitco...  \n",
       "73881  My favorite 3rd-order effect of #bitcoin adopt...  \n",
       "73882  Bitcoin at 37,000 and I'm still in the red lma...  \n",
       "73883  Shorts 4k\\nJoggers 5k\\nHoodies 5k\\nJerseys 5k\\...  "
      ]
     },
     "execution_count": 7,
     "metadata": {},
     "output_type": "execute_result"
    }
   ],
   "source": [
    "df.tail()"
   ]
  },
  {
   "cell_type": "code",
   "execution_count": 8,
   "metadata": {},
   "outputs": [],
   "source": [
    "pd.Series(tweet_perday).to_csv('BTC_tweet_perday_v2.csv')"
   ]
  },
  {
   "cell_type": "markdown",
   "metadata": {},
   "source": [
    "## Ethereum"
   ]
  },
  {
   "cell_type": "code",
   "execution_count": 9,
   "metadata": {},
   "outputs": [
    {
     "name": "stderr",
     "output_type": "stream",
     "text": [
      "100%|██████████| 400/400 [34:56<00:00,  5.24s/it]\n"
     ]
    }
   ],
   "source": [
    "tweet_perday = []\n",
    "df = pd.DataFrame([])\n",
    "\n",
    "for i in tqdm(range(400), total=400):\n",
    "    j = pd.to_datetime('2020-01-01').date() + pd.Timedelta(days=i)\n",
    "    k = pd.to_datetime('2020-01-01').date() + pd.Timedelta(days=i+1)\n",
    "    query = f'(eth OR ether OR ethereum OR cryptocurrency OR crypto OR blockchain OR $eth) min_faves:100 lang:en until:{k} since:{j} -is:nullcast'\n",
    "    tweets = []\n",
    "    limits = 10000\n",
    "\n",
    "    for tweet in snstwitter.TwitterSearchScraper(query).get_items():\n",
    "        if len(tweets) == limits:\n",
    "            break\n",
    "        else:\n",
    "            tweets.append([tweet.date, tweet.retweetCount,tweet.replyCount, tweet.likeCount,tweet.content])\n",
    "        \n",
    "    tweet_perday.append(len(tweets))\n",
    "    temp = pd.DataFrame(tweets, columns=['Date', 'Retweet', 'Reply', 'Likes', 'Tweet'])\n",
    "    df = pd.concat([df, temp.sort_values('Likes', ascending=False)], ignore_index=True)"
   ]
  },
  {
   "cell_type": "code",
   "execution_count": 10,
   "metadata": {},
   "outputs": [],
   "source": [
    "df.to_csv('ETH_Tweets_v2.csv')"
   ]
  },
  {
   "cell_type": "code",
   "execution_count": 11,
   "metadata": {},
   "outputs": [
    {
     "data": {
      "text/plain": [
       "(34922, 5)"
      ]
     },
     "execution_count": 11,
     "metadata": {},
     "output_type": "execute_result"
    }
   ],
   "source": [
    "df.shape"
   ]
  },
  {
   "cell_type": "code",
   "execution_count": 12,
   "metadata": {},
   "outputs": [
    {
     "data": {
      "text/html": [
       "<div>\n",
       "<style scoped>\n",
       "    .dataframe tbody tr th:only-of-type {\n",
       "        vertical-align: middle;\n",
       "    }\n",
       "\n",
       "    .dataframe tbody tr th {\n",
       "        vertical-align: top;\n",
       "    }\n",
       "\n",
       "    .dataframe thead th {\n",
       "        text-align: right;\n",
       "    }\n",
       "</style>\n",
       "<table border=\"1\" class=\"dataframe\">\n",
       "  <thead>\n",
       "    <tr style=\"text-align: right;\">\n",
       "      <th></th>\n",
       "      <th>Date</th>\n",
       "      <th>Retweet</th>\n",
       "      <th>Reply</th>\n",
       "      <th>Likes</th>\n",
       "      <th>Tweet</th>\n",
       "    </tr>\n",
       "  </thead>\n",
       "  <tbody>\n",
       "    <tr>\n",
       "      <th>0</th>\n",
       "      <td>2020-01-01 08:18:15+00:00</td>\n",
       "      <td>122</td>\n",
       "      <td>57</td>\n",
       "      <td>975</td>\n",
       "      <td>If you bought any crypto and it went up over 1...</td>\n",
       "    </tr>\n",
       "    <tr>\n",
       "      <th>1</th>\n",
       "      <td>2020-01-01 20:15:56+00:00</td>\n",
       "      <td>161</td>\n",
       "      <td>179</td>\n",
       "      <td>933</td>\n",
       "      <td>I found @CryptoKitties the most interesting cr...</td>\n",
       "    </tr>\n",
       "    <tr>\n",
       "      <th>2</th>\n",
       "      <td>2020-01-01 01:24:27+00:00</td>\n",
       "      <td>52</td>\n",
       "      <td>29</td>\n",
       "      <td>868</td>\n",
       "      <td>Happy New Year to all you great people in the ...</td>\n",
       "    </tr>\n",
       "    <tr>\n",
       "      <th>3</th>\n",
       "      <td>2020-01-01 12:53:38+00:00</td>\n",
       "      <td>77</td>\n",
       "      <td>47</td>\n",
       "      <td>776</td>\n",
       "      <td>$ETH\\n\\nTime to play the range. https://t.co/I...</td>\n",
       "    </tr>\n",
       "    <tr>\n",
       "      <th>4</th>\n",
       "      <td>2020-01-01 06:54:45+00:00</td>\n",
       "      <td>207</td>\n",
       "      <td>84</td>\n",
       "      <td>732</td>\n",
       "      <td>Crypto companies by number of fulltime employe...</td>\n",
       "    </tr>\n",
       "  </tbody>\n",
       "</table>\n",
       "</div>"
      ],
      "text/plain": [
       "                       Date  Retweet  Reply  Likes  \\\n",
       "0 2020-01-01 08:18:15+00:00      122     57    975   \n",
       "1 2020-01-01 20:15:56+00:00      161    179    933   \n",
       "2 2020-01-01 01:24:27+00:00       52     29    868   \n",
       "3 2020-01-01 12:53:38+00:00       77     47    776   \n",
       "4 2020-01-01 06:54:45+00:00      207     84    732   \n",
       "\n",
       "                                               Tweet  \n",
       "0  If you bought any crypto and it went up over 1...  \n",
       "1  I found @CryptoKitties the most interesting cr...  \n",
       "2  Happy New Year to all you great people in the ...  \n",
       "3  $ETH\\n\\nTime to play the range. https://t.co/I...  \n",
       "4  Crypto companies by number of fulltime employe...  "
      ]
     },
     "execution_count": 12,
     "metadata": {},
     "output_type": "execute_result"
    }
   ],
   "source": [
    "df.head()"
   ]
  },
  {
   "cell_type": "code",
   "execution_count": 13,
   "metadata": {},
   "outputs": [],
   "source": [
    "pd.Series(tweet_perday).to_csv('ETH_tweet_perday_v2.csv')"
   ]
  }
 ],
 "metadata": {
  "kernelspec": {
   "display_name": "Python 3.10.5 64-bit",
   "language": "python",
   "name": "python3"
  },
  "language_info": {
   "codemirror_mode": {
    "name": "ipython",
    "version": 3
   },
   "file_extension": ".py",
   "mimetype": "text/x-python",
   "name": "python",
   "nbconvert_exporter": "python",
   "pygments_lexer": "ipython3",
   "version": "3.10.5 (tags/v3.10.5:f377153, Jun  6 2022, 16:14:13) [MSC v.1929 64 bit (AMD64)]"
  },
  "orig_nbformat": 4,
  "vscode": {
   "interpreter": {
    "hash": "6f33e2aab1947ef18b04b3819b323c052dfcdf5c9ef637e8187270b943f31089"
   }
  }
 },
 "nbformat": 4,
 "nbformat_minor": 2
}

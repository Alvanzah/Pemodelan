{
 "cells": [
  {
   "cell_type": "code",
   "execution_count": 1,
   "metadata": {},
   "outputs": [],
   "source": [
    "import pandas as pd\n",
    "import snscrape.modules.twitter as snstwitter\n",
    "from tqdm import tqdm"
   ]
  },
  {
   "cell_type": "markdown",
   "metadata": {},
   "source": [
    "## Bitcoin"
   ]
  },
  {
   "cell_type": "code",
   "execution_count": 12,
   "metadata": {},
   "outputs": [
    {
     "name": "stderr",
     "output_type": "stream",
     "text": [
      "100%|██████████| 150/150 [14:06<00:00,  5.64s/it]\n"
     ]
    }
   ],
   "source": [
    "tweet_perday = []\n",
    "df = pd.DataFrame([])\n",
    "\n",
    "for i in tqdm(range(150), total=150):\n",
    "    j = pd.to_datetime('2020-01-01').date() + pd.Timedelta(days=i)\n",
    "    k = pd.to_datetime('2020-01-01').date() + pd.Timedelta(days=i+1)\n",
    "    query = f'(btc OR bitcoin OR cryptocurrency OR crypto OR blockchain OR $btc) min_faves:100 lang:en until:{k} since:{j} -is:nullcast'\n",
    "    tweets = []\n",
    "    limits = 100000\n",
    "\n",
    "    for tweet in snstwitter.TwitterSearchScraper(query).get_items():\n",
    "        if len(tweets) == limits:\n",
    "            break\n",
    "        else:\n",
    "            tweets.append([tweet.date, tweet.retweetCount,tweet.replyCount, tweet.likeCount,tweet.content])\n",
    "        \n",
    "    tweet_perday.append(len(tweets))\n",
    "    temp = pd.DataFrame(tweets, columns=['Date', 'Retweet', 'Reply', 'Likes', 'Tweet'])\n",
    "    df = pd.concat([df, temp.sort_values('Likes', ascending=False)[:300]], ignore_index=True)"
   ]
  },
  {
   "cell_type": "code",
   "execution_count": 13,
   "metadata": {},
   "outputs": [],
   "source": [
    "df.to_csv('BTC_Tweets.csv')"
   ]
  },
  {
   "cell_type": "code",
   "execution_count": 14,
   "metadata": {},
   "outputs": [
    {
     "data": {
      "text/plain": [
       "(17040, 5)"
      ]
     },
     "execution_count": 14,
     "metadata": {},
     "output_type": "execute_result"
    }
   ],
   "source": [
    "df.shape"
   ]
  },
  {
   "cell_type": "code",
   "execution_count": 15,
   "metadata": {},
   "outputs": [
    {
     "data": {
      "text/html": [
       "<div>\n",
       "<style scoped>\n",
       "    .dataframe tbody tr th:only-of-type {\n",
       "        vertical-align: middle;\n",
       "    }\n",
       "\n",
       "    .dataframe tbody tr th {\n",
       "        vertical-align: top;\n",
       "    }\n",
       "\n",
       "    .dataframe thead th {\n",
       "        text-align: right;\n",
       "    }\n",
       "</style>\n",
       "<table border=\"1\" class=\"dataframe\">\n",
       "  <thead>\n",
       "    <tr style=\"text-align: right;\">\n",
       "      <th></th>\n",
       "      <th>Date</th>\n",
       "      <th>Retweet</th>\n",
       "      <th>Reply</th>\n",
       "      <th>Likes</th>\n",
       "      <th>Tweet</th>\n",
       "    </tr>\n",
       "  </thead>\n",
       "  <tbody>\n",
       "    <tr>\n",
       "      <th>17035</th>\n",
       "      <td>2020-05-29 12:25:36+00:00</td>\n",
       "      <td>20</td>\n",
       "      <td>6</td>\n",
       "      <td>139</td>\n",
       "      <td>Bitcoin is a great song. It allows individuals...</td>\n",
       "    </tr>\n",
       "    <tr>\n",
       "      <th>17036</th>\n",
       "      <td>2020-05-29 11:50:22+00:00</td>\n",
       "      <td>23</td>\n",
       "      <td>10</td>\n",
       "      <td>133</td>\n",
       "      <td>if markets are sentiment machines, then the me...</td>\n",
       "    </tr>\n",
       "    <tr>\n",
       "      <th>17037</th>\n",
       "      <td>2020-05-29 10:19:46+00:00</td>\n",
       "      <td>5</td>\n",
       "      <td>12</td>\n",
       "      <td>125</td>\n",
       "      <td>@SizweDhlomo Check your texts. I have this unb...</td>\n",
       "    </tr>\n",
       "    <tr>\n",
       "      <th>17038</th>\n",
       "      <td>2020-05-29 17:01:51+00:00</td>\n",
       "      <td>30</td>\n",
       "      <td>1</td>\n",
       "      <td>123</td>\n",
       "      <td>See link to a presentation I gave at the Value...</td>\n",
       "    </tr>\n",
       "    <tr>\n",
       "      <th>17039</th>\n",
       "      <td>2020-05-29 18:56:40+00:00</td>\n",
       "      <td>8</td>\n",
       "      <td>19</td>\n",
       "      <td>114</td>\n",
       "      <td>My crypto drama pilot, FINDING SATOSHI, was se...</td>\n",
       "    </tr>\n",
       "  </tbody>\n",
       "</table>\n",
       "</div>"
      ],
      "text/plain": [
       "                           Date  Retweet  Reply  Likes  \\\n",
       "17035 2020-05-29 12:25:36+00:00       20      6    139   \n",
       "17036 2020-05-29 11:50:22+00:00       23     10    133   \n",
       "17037 2020-05-29 10:19:46+00:00        5     12    125   \n",
       "17038 2020-05-29 17:01:51+00:00       30      1    123   \n",
       "17039 2020-05-29 18:56:40+00:00        8     19    114   \n",
       "\n",
       "                                                   Tweet  \n",
       "17035  Bitcoin is a great song. It allows individuals...  \n",
       "17036  if markets are sentiment machines, then the me...  \n",
       "17037  @SizweDhlomo Check your texts. I have this unb...  \n",
       "17038  See link to a presentation I gave at the Value...  \n",
       "17039  My crypto drama pilot, FINDING SATOSHI, was se...  "
      ]
     },
     "execution_count": 15,
     "metadata": {},
     "output_type": "execute_result"
    }
   ],
   "source": [
    "df.tail()"
   ]
  },
  {
   "cell_type": "code",
   "execution_count": 16,
   "metadata": {},
   "outputs": [],
   "source": [
    "pd.Series(tweet_perday).to_csv('BTC_tweet_perday.csv')"
   ]
  },
  {
   "cell_type": "markdown",
   "metadata": {},
   "source": [
    "## Ethereum"
   ]
  },
  {
   "cell_type": "code",
   "execution_count": 17,
   "metadata": {},
   "outputs": [
    {
     "name": "stderr",
     "output_type": "stream",
     "text": [
      "100%|██████████| 150/150 [1:50:18<00:00, 44.12s/it]  \n"
     ]
    }
   ],
   "source": [
    "tweet_perday = []\n",
    "df = pd.DataFrame([])\n",
    "\n",
    "for i in tqdm(range(150), total=150):\n",
    "    j = pd.to_datetime('2020-01-01').date() + pd.Timedelta(days=i)\n",
    "    k = pd.to_datetime('2020-01-01').date() + pd.Timedelta(days=i+1)\n",
    "    query = f'(eth OR ether OR ethereum OR cryptocurrency OR crypto OR blockchain OR $eth) min_faves:100 lang:en until:{k} since:{j} -is:nullcast'\n",
    "    tweets = []\n",
    "    limits = 100000\n",
    "\n",
    "    for tweet in snstwitter.TwitterSearchScraper(query).get_items():\n",
    "        if len(tweets) == limits:\n",
    "            break\n",
    "        else:\n",
    "            tweets.append([tweet.date, tweet.retweetCount,tweet.replyCount, tweet.likeCount,tweet.content])\n",
    "        \n",
    "    tweet_perday.append(len(tweets))\n",
    "    temp = pd.DataFrame(tweets, columns=['Date', 'Retweet', 'Reply', 'Likes', 'Tweet'])\n",
    "    df = pd.concat([df, temp.sort_values('Likes', ascending=False)[:300]], ignore_index=True)"
   ]
  },
  {
   "cell_type": "code",
   "execution_count": 18,
   "metadata": {},
   "outputs": [],
   "source": [
    "df.to_csv('ETH_Tweets.csv')"
   ]
  },
  {
   "cell_type": "code",
   "execution_count": 19,
   "metadata": {},
   "outputs": [
    {
     "data": {
      "text/plain": [
       "(6931, 5)"
      ]
     },
     "execution_count": 19,
     "metadata": {},
     "output_type": "execute_result"
    }
   ],
   "source": [
    "df.shape"
   ]
  },
  {
   "cell_type": "code",
   "execution_count": 20,
   "metadata": {},
   "outputs": [
    {
     "data": {
      "text/html": [
       "<div>\n",
       "<style scoped>\n",
       "    .dataframe tbody tr th:only-of-type {\n",
       "        vertical-align: middle;\n",
       "    }\n",
       "\n",
       "    .dataframe tbody tr th {\n",
       "        vertical-align: top;\n",
       "    }\n",
       "\n",
       "    .dataframe thead th {\n",
       "        text-align: right;\n",
       "    }\n",
       "</style>\n",
       "<table border=\"1\" class=\"dataframe\">\n",
       "  <thead>\n",
       "    <tr style=\"text-align: right;\">\n",
       "      <th></th>\n",
       "      <th>Date</th>\n",
       "      <th>Retweet</th>\n",
       "      <th>Reply</th>\n",
       "      <th>Likes</th>\n",
       "      <th>Tweet</th>\n",
       "    </tr>\n",
       "  </thead>\n",
       "  <tbody>\n",
       "    <tr>\n",
       "      <th>0</th>\n",
       "      <td>2020-01-01 08:18:15+00:00</td>\n",
       "      <td>126</td>\n",
       "      <td>57</td>\n",
       "      <td>979</td>\n",
       "      <td>If you bought any crypto and it went up over 1...</td>\n",
       "    </tr>\n",
       "    <tr>\n",
       "      <th>1</th>\n",
       "      <td>2020-01-01 20:15:56+00:00</td>\n",
       "      <td>161</td>\n",
       "      <td>179</td>\n",
       "      <td>941</td>\n",
       "      <td>I found @CryptoKitties the most interesting cr...</td>\n",
       "    </tr>\n",
       "    <tr>\n",
       "      <th>2</th>\n",
       "      <td>2020-01-01 01:24:27+00:00</td>\n",
       "      <td>54</td>\n",
       "      <td>29</td>\n",
       "      <td>877</td>\n",
       "      <td>Happy New Year to all you great people in the ...</td>\n",
       "    </tr>\n",
       "    <tr>\n",
       "      <th>3</th>\n",
       "      <td>2020-01-01 12:53:38+00:00</td>\n",
       "      <td>77</td>\n",
       "      <td>47</td>\n",
       "      <td>778</td>\n",
       "      <td>$ETH\\n\\nTime to play the range. https://t.co/I...</td>\n",
       "    </tr>\n",
       "    <tr>\n",
       "      <th>4</th>\n",
       "      <td>2020-01-01 06:54:45+00:00</td>\n",
       "      <td>209</td>\n",
       "      <td>84</td>\n",
       "      <td>734</td>\n",
       "      <td>Crypto companies by number of fulltime employe...</td>\n",
       "    </tr>\n",
       "  </tbody>\n",
       "</table>\n",
       "</div>"
      ],
      "text/plain": [
       "                       Date  Retweet  Reply  Likes  \\\n",
       "0 2020-01-01 08:18:15+00:00      126     57    979   \n",
       "1 2020-01-01 20:15:56+00:00      161    179    941   \n",
       "2 2020-01-01 01:24:27+00:00       54     29    877   \n",
       "3 2020-01-01 12:53:38+00:00       77     47    778   \n",
       "4 2020-01-01 06:54:45+00:00      209     84    734   \n",
       "\n",
       "                                               Tweet  \n",
       "0  If you bought any crypto and it went up over 1...  \n",
       "1  I found @CryptoKitties the most interesting cr...  \n",
       "2  Happy New Year to all you great people in the ...  \n",
       "3  $ETH\\n\\nTime to play the range. https://t.co/I...  \n",
       "4  Crypto companies by number of fulltime employe...  "
      ]
     },
     "execution_count": 20,
     "metadata": {},
     "output_type": "execute_result"
    }
   ],
   "source": [
    "df.head()"
   ]
  },
  {
   "cell_type": "code",
   "execution_count": 21,
   "metadata": {},
   "outputs": [],
   "source": [
    "pd.Series(tweet_perday).to_csv('ETH_tweet_perday.csv')"
   ]
  }
 ],
 "metadata": {
  "kernelspec": {
   "display_name": "Python 3.10.5 64-bit",
   "language": "python",
   "name": "python3"
  },
  "language_info": {
   "codemirror_mode": {
    "name": "ipython",
    "version": 3
   },
   "file_extension": ".py",
   "mimetype": "text/x-python",
   "name": "python",
   "nbconvert_exporter": "python",
   "pygments_lexer": "ipython3",
   "version": "3.10.5"
  },
  "orig_nbformat": 4,
  "vscode": {
   "interpreter": {
    "hash": "6f33e2aab1947ef18b04b3819b323c052dfcdf5c9ef637e8187270b943f31089"
   }
  }
 },
 "nbformat": 4,
 "nbformat_minor": 2
}
